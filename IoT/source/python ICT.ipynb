{
 "cells": [
  {
   "cell_type": "code",
   "execution_count": 1,
   "metadata": {},
   "outputs": [
    {
     "name": "stdout",
     "output_type": "stream",
     "text": [
      "Host name: DESKTOP-GA61A0D\n",
      "IP Address: 192.168.56.1\n"
     ]
    }
   ],
   "source": [
    "import socket\n",
    " \n",
    "host = socket.gethostname()\n",
    "ipAddress = socket.gethostbyname(host)\n",
    "print(\"Host name:\", host)\n",
    "print(\"IP Address:\", ipAddress)"
   ]
  },
  {
   "cell_type": "code",
   "execution_count": 2,
   "metadata": {},
   "outputs": [
    {
     "name": "stdout",
     "output_type": "stream",
     "text": [
      "네이버블로그: 223.130.195.143\n",
      "다음: 211.231.99.80\n"
     ]
    }
   ],
   "source": [
    "import socket\n",
    " \n",
    "remote_host1 = 'blog.naver.com'\n",
    "remote_host2 = 'www.daum.net'\n",
    " \n",
    "print(\"네이버블로그:\", socket.gethostbyname(remote_host1))\n",
    "print(\"다음:\", socket.gethostbyname(remote_host2))"
   ]
  },
  {
   "cell_type": "code",
   "execution_count": 3,
   "metadata": {},
   "outputs": [
    {
     "name": "stdout",
     "output_type": "stream",
     "text": [
      ">> 네이버블로그 IP: 223.130.195.68\n",
      ">> Packed IP : b'\\xdf\\x82\\xc3D'\n",
      ">> Unpacked IP : 223.130.195.68\n"
     ]
    }
   ],
   "source": [
    "import socket\n",
    " \n",
    "remote_host1 = 'blog.naver.com'\n",
    "ipAddress1 = socket.gethostbyname(remote_host1)\n",
    "packedIp = socket.inet_aton(ipAddress1)\n",
    "unpackedIp = socket.inet_ntoa(packedIp)\n",
    " \n",
    "print(\">> 네이버블로그 IP: %s\" % ipAddress1)\n",
    "print(\">> Packed IP : %s\" % packedIp)\n",
    "print(\">> Unpacked IP : %s\" % unpackedIp)"
   ]
  },
  {
   "cell_type": "code",
   "execution_count": 3,
   "metadata": {},
   "outputs": [
    {
     "name": "stdout",
     "output_type": "stream",
     "text": [
      "\n",
      "port number: 7 (tcp) echo \n",
      "port number: 7 (udp) echo \n",
      "port number: 9 (tcp) discard \n",
      "port number: 9 (udp) discard \n",
      "port number: 11 (tcp) systat \n",
      "port number: 11 (udp) systat \n",
      "port number: 13 (tcp) daytime \n",
      "port number: 13 (udp) daytime \n",
      "port number: 17 (tcp) qotd \n",
      "port number: 17 (udp) qotd \n",
      "port number: 19 (tcp) chargen \n",
      "port number: 19 (udp) chargen \n",
      "port number: 20 (tcp) ftp-data \n",
      "port number: 21 (tcp) ftp \n",
      "port number: 22 (tcp) ssh \n",
      "port number: 23 (tcp) telnet \n",
      "port number: 25 (tcp) smtp \n",
      "port number: 37 (tcp) time \n",
      "port number: 37 (udp) time \n",
      "port number: 39 (udp) rlp \n",
      "port number: 42 (tcp) nameserver \n",
      "port number: 42 (udp) nameserver \n",
      "port number: 43 (tcp) nicname \n",
      "port number: 53 (tcp) domain \n",
      "port number: 53 (udp) domain \n",
      "port number: 67 (udp) bootps \n",
      "port number: 68 (udp) bootpc \n",
      "port number: 69 (udp) tftp \n",
      "port number: 70 (tcp) gopher \n",
      "port number: 79 (tcp) finger \n",
      "port number: 80 (tcp) http \n",
      "port number: 81 (tcp) hosts2-ns \n",
      "port number: 81 (udp) hosts2-ns \n",
      "port number: 88 (tcp) kerberos \n",
      "port number: 88 (udp) kerberos "
     ]
    }
   ],
   "source": [
    "for i in range(100):\n",
    "    try:\n",
    "        serviceTcp = socket.getservbyport(i, 'tcp')\n",
    "        print(\"\\nport number:\", i, end=' ')\n",
    "        print('(tcp)', serviceTcp, end=' ')\n",
    "    except:\n",
    "        pass\n",
    "    try:\n",
    "        serviceUdp = socket.getservbyport(i, 'udp')\n",
    "        print(\"\\nport number:\", i, end =' ')\n",
    "        print('(udp)', serviceUdp, end= ' ')\n",
    "    except:\n",
    "        pass"
   ]
  },
  {
   "cell_type": "code",
   "execution_count": 7,
   "metadata": {},
   "outputs": [
    {
     "name": "stdout",
     "output_type": "stream",
     "text": [
      "\n",
      "78563412\n",
      "12345678\n",
      "1234\n",
      "3412\n"
     ]
    }
   ],
   "source": [
    "data = 0x1234\n",
    "ip = 0x12345678\n",
    " \n",
    "# 32 bit\n",
    "print()\n",
    "print(\"%x\"%socket.ntohl(ip))\n",
    "print(\"%x\"%ip)\n",
    " \n",
    "# 16 bit\n",
    "print(\"%x\"%data)\n",
    "print(\"%x\"%socket.htons(data))"
   ]
  },
  {
   "cell_type": "code",
   "execution_count": 8,
   "metadata": {},
   "outputs": [
    {
     "name": "stdout",
     "output_type": "stream",
     "text": [
      "Default timeout: None\n",
      "Current timeout: 100.0\n"
     ]
    }
   ],
   "source": [
    "s1 = socket.socket(socket.AF_INET, socket.SOCK_STREAM)\n",
    "print(\"Default timeout:\", s1.gettimeout())\n",
    "s1.settimeout(100)\n",
    "print(\"Current timeout:\", s1.gettimeout())"
   ]
  },
  {
   "cell_type": "code",
   "execution_count": 9,
   "metadata": {},
   "outputs": [
    {
     "name": "stdout",
     "output_type": "stream",
     "text": [
      "Connected by ('192.168.137.100', 41958)\n",
      "Received from ('192.168.137.100', 41958) hello\n"
     ]
    }
   ],
   "source": [
    "import socket\n",
    "\n",
    "\n",
    "# 접속할 서버 주소입니다. 여기에서는 루프백(loopback) 인터페이스 주소 즉 localhost를 사용합니다. \n",
    "HOST = '192.168.137.1'\n",
    "\n",
    "# 클라이언트 접속을 대기하는 포트 번호입니다.   \n",
    "PORT = 9999        \n",
    "\n",
    "\n",
    "\n",
    "# 소켓 객체를 생성합니다. \n",
    "# 주소 체계(address family)로 IPv4, 소켓 타입으로 TCP 사용합니다.  \n",
    "server_socket = socket.socket(socket.AF_INET, socket.SOCK_STREAM)\n",
    "\n",
    "\n",
    "# 포트 사용중이라 연결할 수 없다는 \n",
    "# WinError 10048 에러 해결를 위해 필요합니다. \n",
    "server_socket.setsockopt(socket.SOL_SOCKET, socket.SO_REUSEADDR, 1)\n",
    "\n",
    "\n",
    "# bind 함수는 소켓을 특정 네트워크 인터페이스와 포트 번호에 연결하는데 사용됩니다.\n",
    "# HOST는 hostname, ip address, 빈 문자열 \"\"이 될 수 있습니다.\n",
    "# 빈 문자열이면 모든 네트워크 인터페이스로부터의 접속을 허용합니다. \n",
    "# PORT는 1-65535 사이의 숫자를 사용할 수 있습니다.  \n",
    "server_socket.bind((HOST, PORT))\n",
    "\n",
    "# 서버가 클라이언트의 접속을 허용하도록 합니다. \n",
    "server_socket.listen()\n",
    "\n",
    "# accept 함수에서 대기하다가 클라이언트가 접속하면 새로운 소켓을 리턴합니다. \n",
    "client_socket, addr = server_socket.accept()\n",
    "\n",
    "# 접속한 클라이언트의 주소입니다.\n",
    "print('Connected by', addr)\n",
    "\n",
    "\n",
    "\n",
    "# 무한루프를 돌면서 \n",
    "while True:\n",
    "\n",
    "    # 클라이언트가 보낸 메시지를 수신하기 위해 대기합니다. \n",
    "    data = client_socket.recv(1024)\n",
    "\n",
    "    # 빈 문자열을 수신하면 루프를 중지합니다. \n",
    "    if not data:\n",
    "        break\n",
    "\n",
    "\n",
    "    # 수신받은 문자열을 출력합니다.\n",
    "    print('Received from', addr, data.decode())\n",
    "\n",
    "    # 받은 문자열을 다시 클라이언트로 전송해줍니다.(에코) \n",
    "    client_socket.sendall(data)\n",
    "\n",
    "\n",
    "# 소켓을 닫습니다.\n",
    "client_socket.close()\n",
    "server_socket.close()"
   ]
  },
  {
   "cell_type": "code",
   "execution_count": null,
   "metadata": {},
   "outputs": [],
   "source": []
  }
 ],
 "metadata": {
  "kernelspec": {
   "display_name": "Python 3",
   "language": "python",
   "name": "python3"
  },
  "language_info": {
   "codemirror_mode": {
    "name": "ipython",
    "version": 3
   },
   "file_extension": ".py",
   "mimetype": "text/x-python",
   "name": "python",
   "nbconvert_exporter": "python",
   "pygments_lexer": "ipython3",
   "version": "3.8.5"
  }
 },
 "nbformat": 4,
 "nbformat_minor": 4
}
