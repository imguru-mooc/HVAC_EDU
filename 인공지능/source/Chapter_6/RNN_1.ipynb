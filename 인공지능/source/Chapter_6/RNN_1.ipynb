{
 "cells": [
  {
   "cell_type": "code",
   "execution_count": 3,
   "metadata": {},
   "outputs": [],
   "source": [
    "import numpy as np\n",
    "from tensorflow.keras.datasets import imdb\n",
    "\n",
    "(x_train_all, y_train_all), (x_test, y_test) = imdb.load_data(skip_top=20, num_words=100)"
   ]
  },
  {
   "cell_type": "code",
   "execution_count": 4,
   "metadata": {},
   "outputs": [
    {
     "name": "stdout",
     "output_type": "stream",
     "text": [
      "(25000,) (25000,)\n"
     ]
    }
   ],
   "source": [
    "print(x_train_all.shape, y_train_all.shape)"
   ]
  },
  {
   "cell_type": "code",
   "execution_count": 7,
   "metadata": {
    "scrolled": true
   },
   "outputs": [
    {
     "name": "stdout",
     "output_type": "stream",
     "text": [
      "[2, 2, 22, 2, 43, 2, 2, 2, 2, 65, 2, 2, 66, 2, 2, 2, 36, 2, 2, 25, 2, 43, 2, 2, 50, 2, 2, 2, 35, 2, 2, 2, 2, 2, 2, 2, 2, 2, 2, 2, 39, 2, 2, 2, 2, 2, 2, 38, 2, 2, 2, 2, 50, 2, 2, 2, 2, 2, 2, 22, 2, 2, 2, 2, 2, 22, 71, 87, 2, 2, 43, 2, 38, 76, 2, 2, 2, 2, 22, 2, 2, 2, 2, 2, 2, 2, 2, 2, 62, 2, 2, 2, 2, 2, 2, 2, 2, 2, 2, 2, 2, 66, 2, 33, 2, 2, 2, 2, 38, 2, 2, 25, 2, 51, 36, 2, 48, 25, 2, 33, 2, 22, 2, 2, 28, 77, 52, 2, 2, 2, 2, 82, 2, 2, 2, 2, 2, 2, 2, 2, 2, 2, 2, 2, 2, 2, 36, 71, 43, 2, 2, 26, 2, 2, 46, 2, 2, 2, 2, 2, 2, 88, 2, 2, 2, 2, 98, 32, 2, 56, 26, 2, 2, 2, 2, 2, 2, 2, 22, 21, 2, 2, 26, 2, 2, 2, 30, 2, 2, 51, 36, 28, 2, 92, 25, 2, 2, 2, 65, 2, 38, 2, 88, 2, 2, 2, 2, 2, 2, 2, 2, 32, 2, 2, 2, 2, 2, 32]\n"
     ]
    }
   ],
   "source": [
    "print(x_train_all[0])"
   ]
  },
  {
   "cell_type": "code",
   "execution_count": 8,
   "metadata": {},
   "outputs": [
    {
     "name": "stdout",
     "output_type": "stream",
     "text": [
      "[22, 43, 65, 66, 36, 25, 43, 50, 35, 39, 38, 50, 22, 22, 71, 87, 43, 38, 76, 22, 62, 66, 33, 38, 25, 51, 36, 48, 25, 33, 22, 28, 77, 52, 82, 36, 71, 43, 26, 46, 88, 98, 32, 56, 26, 22, 21, 26, 30, 51, 36, 28, 92, 25, 65, 38, 88, 32, 32]\n"
     ]
    }
   ],
   "source": [
    "for i in range(len(x_train_all)):\n",
    "    x_train_all[i] = [w for w in x_train_all[i] if w > 2]\n",
    "\n",
    "print(x_train_all[0])"
   ]
  },
  {
   "cell_type": "code",
   "execution_count": 9,
   "metadata": {},
   "outputs": [
    {
     "name": "stdout",
     "output_type": "stream",
     "text": [
      "Downloading data from https://storage.googleapis.com/tensorflow/tf-keras-datasets/imdb_word_index.json\n",
      "1646592/1641221 [==============================] - 0s 0us/step\n"
     ]
    },
    {
     "data": {
      "text/plain": [
       "17"
      ]
     },
     "execution_count": 9,
     "metadata": {},
     "output_type": "execute_result"
    }
   ],
   "source": [
    "word_to_index = imdb.get_word_index()\n",
    "word_to_index['movie']"
   ]
  },
  {
   "cell_type": "code",
   "execution_count": 12,
   "metadata": {},
   "outputs": [
    {
     "name": "stdout",
     "output_type": "stream",
     "text": [
      "film just story really they you just there an from so there film film were great just so much film would really at so you what they if you at film have been good also they were just are out because them all up are film but are be what they have don't you story so because all all "
     ]
    }
   ],
   "source": [
    "index_to_word = {word_to_index[k]: k for k in word_to_index}\n",
    "\n",
    "for w in x_train_all[0]:\n",
    "    print(index_to_word[w - 3], end=' ')"
   ]
  },
  {
   "cell_type": "code",
   "execution_count": 13,
   "metadata": {},
   "outputs": [
    {
     "name": "stdout",
     "output_type": "stream",
     "text": [
      "59 32\n"
     ]
    }
   ],
   "source": [
    "print(len(x_train_all[0]), len(x_train_all[1]))"
   ]
  },
  {
   "cell_type": "code",
   "execution_count": 14,
   "metadata": {},
   "outputs": [
    {
     "name": "stdout",
     "output_type": "stream",
     "text": [
      "[1 0 0 1 0 0 1 0 1 0]\n"
     ]
    }
   ],
   "source": [
    "print(y_train_all[:10])"
   ]
  },
  {
   "cell_type": "code",
   "execution_count": 15,
   "metadata": {},
   "outputs": [],
   "source": [
    "np.random.seed(42)\n",
    "random_index = np.random.permutation(25000)\n",
    "\n",
    "x_train = x_train_all[random_index[:20000]]\n",
    "y_train = y_train_all[random_index[:20000]]\n",
    "x_val = x_train_all[random_index[20000:]]\n",
    "y_val = y_train_all[random_index[20000:]]"
   ]
  },
  {
   "cell_type": "code",
   "execution_count": 16,
   "metadata": {},
   "outputs": [],
   "source": [
    "from tensorflow.keras.preprocessing import sequence\n",
    "\n",
    "maxlen=100\n",
    "x_train_seq = sequence.pad_sequences(x_train, maxlen=maxlen)\n",
    "x_val_seq = sequence.pad_sequences(x_val, maxlen=maxlen)"
   ]
  },
  {
   "cell_type": "code",
   "execution_count": 17,
   "metadata": {},
   "outputs": [
    {
     "name": "stdout",
     "output_type": "stream",
     "text": [
      "(20000, 100) (5000, 100)\n"
     ]
    }
   ],
   "source": [
    "print(x_train_seq.shape, x_val_seq.shape)"
   ]
  },
  {
   "cell_type": "code",
   "execution_count": 18,
   "metadata": {},
   "outputs": [
    {
     "name": "stdout",
     "output_type": "stream",
     "text": [
      "[ 0  0  0  0  0  0  0  0  0  0  0  0  0  0  0  0  0  0  0  0  0  0  0  0\n",
      "  0  0  0  0  0  0  0  0  0  0  0  0  0  0  0  0  0  0  0  0  0  0  0  0\n",
      "  0  0  0  0  0  0  0  0  0  0  0  0  0  0 35 40 27 28 40 22 83 31 85 45\n",
      " 24 23 31 70 31 76 30 98 32 22 28 51 75 56 30 33 97 53 38 46 53 74 31 35\n",
      " 23 34 22 58]\n"
     ]
    }
   ],
   "source": [
    "print(x_train_seq[0])"
   ]
  },
  {
   "cell_type": "code",
   "execution_count": 19,
   "metadata": {},
   "outputs": [],
   "source": [
    "from tensorflow.keras.utils import to_categorical\n",
    "\n",
    "x_train_onehot = to_categorical(x_train_seq)\n",
    "x_val_onehot = to_categorical(x_val_seq)"
   ]
  },
  {
   "cell_type": "code",
   "execution_count": 20,
   "metadata": {},
   "outputs": [
    {
     "name": "stdout",
     "output_type": "stream",
     "text": [
      "(20000, 100, 100)\n"
     ]
    }
   ],
   "source": [
    "print(x_train_onehot.shape)\n"
   ]
  },
  {
   "cell_type": "code",
   "execution_count": 22,
   "metadata": {},
   "outputs": [
    {
     "name": "stdout",
     "output_type": "stream",
     "text": [
      "800000000\n"
     ]
    }
   ],
   "source": [
    "print(x_train_onehot.nbytes)"
   ]
  },
  {
   "cell_type": "code",
   "execution_count": 23,
   "metadata": {},
   "outputs": [
    {
     "name": "stdout",
     "output_type": "stream",
     "text": [
      "<class 'numpy.ndarray'>\n",
      "(32, 10)\n"
     ]
    }
   ],
   "source": [
    "import numpy as np\n",
    "h = [np.zeros((32, 10))]   \n",
    "print(type(h[0]))\n",
    "print(h[0].shape)"
   ]
  },
  {
   "cell_type": "code",
   "execution_count": 25,
   "metadata": {},
   "outputs": [
    {
     "name": "stdout",
     "output_type": "stream",
     "text": [
      "3\n",
      "2\n"
     ]
    }
   ],
   "source": [
    "import numpy as np\n",
    "a=([1,2,3,4])\n",
    "for x in a[:-1][::-1][:2]:\n",
    "    print(x)"
   ]
  },
  {
   "cell_type": "code",
   "execution_count": 26,
   "metadata": {},
   "outputs": [],
   "source": [
    "import tensorflow as tf"
   ]
  },
  {
   "cell_type": "code",
   "execution_count": 27,
   "metadata": {},
   "outputs": [],
   "source": [
    "class RecurrentNetwork:\n",
    "    \n",
    "    def __init__(self, n_cells=10, batch_size=32, learning_rate=0.1):\n",
    "        self.n_cells = n_cells     # 셀 개수\n",
    "        self.batch_size = batch_size     # 배치 크기\n",
    "        self.w1h = None            # 은닉 상태에 대한 가중치\n",
    "        self.w1x = None            # 입력에 대한 가중치\n",
    "        self.b1 = None             # 순환층의 절편\n",
    "        self.w2 = None             # 출력층의 가중치\n",
    "        self.b2 = None             # 출력층의 절편\n",
    "        self.h = None              # 순환층의 활성화 출력\n",
    "        self.losses = []           # 훈련 손실\n",
    "        self.val_losses = []       # 검증 손실\n",
    "        self.lr = learning_rate    # 학습률\n",
    "\n",
    "    def forpass(self, x):\n",
    "        self.h = [np.zeros((x.shape[0], self.n_cells))]   # 은닉 상태를 초기화합니다.\n",
    "        # 배치 차원과 타임 스텝 차원을 바꿉니다.\n",
    "        seq = np.swapaxes(x, 0, 1)\n",
    "        # 순환 층의 선형 식을 계산합니다.\n",
    "        for x in seq:\n",
    "            z1 = np.dot(x, self.w1x) + np.dot(self.h[-1], self.w1h) + self.b1\n",
    "            h = np.tanh(z1)                    # 활성화 함수를 적용합니다.\n",
    "            self.h.append(h)                   # 역전파를 위해 은닉 상태 저장합니다.\n",
    "            z2 = np.dot(h, self.w2) + self.b2  # 출력층의 선형 식을 계산합니다.\n",
    "        return z2\n",
    "\n",
    "    def backprop(self, x, err):\n",
    "        m = len(x)       # 샘플 개수\n",
    "        \n",
    "        # 출력층의 가중치와 절편에 대한 그래디언트를 계산합니다.\n",
    "        w2_grad = np.dot(self.h[-1].T, err) / m\n",
    "        b2_grad = np.sum(err) / m\n",
    "        # 배치 차원과 타임 스텝 차원을 바꿉니다.\n",
    "        seq = np.swapaxes(x, 0, 1)\n",
    "        \n",
    "        w1h_grad = w1x_grad = b1_grad = 0\n",
    "        # 셀 직전까지 그래디언트를 계산합니다.\n",
    "        err_to_cell = np.dot(err, self.w2.T) * (1 - self.h[-1] ** 2)\n",
    "        # 모든 타임 스텝을 거슬러가면서 그래디언트를 전파합니다.\n",
    "        for x, h in zip(seq[::-1][:10], self.h[:-1][::-1][:10]):\n",
    "            w1h_grad += np.dot(h.T, err_to_cell)\n",
    "            w1x_grad += np.dot(x.T, err_to_cell)\n",
    "            b1_grad += np.sum(err_to_cell, axis=0)\n",
    "            # 이전 타임 스텝의 셀 직전까지 그래디언트를 계산합니다.\n",
    "            err_to_cell = np.dot(err_to_cell, self.w1h) * (1 - h ** 2)\n",
    "        \n",
    "        w1h_grad /= m\n",
    "        w1x_grad /= m\n",
    "        b1_grad /= m\n",
    "    \n",
    "        return w1h_grad, w1x_grad, b1_grad, w2_grad, b2_grad\n",
    "    \n",
    "    def sigmoid(self, z):\n",
    "        z = np.clip(z, -100, None)            # 안전한 np.exp() 계산을 위해\n",
    "        a = 1 / (1 + np.exp(-z))              # 시그모이드 계산\n",
    "        return a\n",
    "    \n",
    "    def init_weights(self, n_features, n_classes):\n",
    "        orth_init = tf.initializers.Orthogonal()\n",
    "        glorot_init = tf.initializers.GlorotUniform()\n",
    "        \n",
    "        self.w1h = orth_init((self.n_cells, self.n_cells)).numpy() # (셀 개수, 셀 개수)\n",
    "        self.w1x = glorot_init((n_features, self.n_cells)).numpy() # (특성 개수, 셀 개수)\n",
    "        self.b1 = np.zeros(self.n_cells)                           # 은닉층의 크기\n",
    "        self.w2 = glorot_init((self.n_cells, n_classes)).numpy()   # (셀 개수, 클래스 개수)\n",
    "        self.b2 = np.zeros(n_classes)\n",
    "        \n",
    "    def fit(self, x, y, epochs=100, x_val=None, y_val=None):\n",
    "        y = y.reshape(-1, 1)\n",
    "        y_val = y_val.reshape(-1, 1)\n",
    "        np.random.seed(42)\n",
    "        self.init_weights(x.shape[2], y.shape[1])    # 은닉층과 출력층의 가중치를 초기화합니다.\n",
    "        # epochs만큼 반복합니다.\n",
    "        for i in range(epochs):\n",
    "            print('에포크', i, end=' ')\n",
    "            # 제너레이터 함수에서 반환한 미니배치를 순환합니다.\n",
    "            batch_losses = []\n",
    "            for x_batch, y_batch in self.gen_batch(x, y):\n",
    "                print('.', end='')\n",
    "                a = self.training(x_batch, y_batch)\n",
    "                # 안전한 로그 계산을 위해 클리핑합니다.\n",
    "                a = np.clip(a, 1e-10, 1-1e-10)\n",
    "                # 로그 손실과 규제 손실을 더하여 리스트에 추가합니다.\n",
    "                loss = np.mean(-(y_batch*np.log(a) + (1-y_batch)*np.log(1-a)))\n",
    "                batch_losses.append(loss)\n",
    "            print()\n",
    "            self.losses.append(np.mean(batch_losses))\n",
    "            # 검증 세트에 대한 손실을 계산합니다.\n",
    "            self.update_val_loss(x_val, y_val)\n",
    "\n",
    "    # 미니배치 제너레이터 함수\n",
    "    def gen_batch(self, x, y):\n",
    "        length = len(x)\n",
    "        bins = length // self.batch_size # 미니배치 횟수\n",
    "        if length % self.batch_size:\n",
    "            bins += 1                    # 나누어 떨어지지 않을 때\n",
    "        indexes = np.random.permutation(np.arange(len(x))) # 인덱스를 섞습니다.\n",
    "        x = x[indexes]\n",
    "        y = y[indexes]\n",
    "        for i in range(bins):\n",
    "            start = self.batch_size * i\n",
    "            end = self.batch_size * (i + 1)\n",
    "            yield x[start:end], y[start:end]   # batch_size만큼 슬라이싱하여 반환합니다.\n",
    "            \n",
    "    def training(self, x, y):\n",
    "        m = len(x)                # 샘플 개수를 저장합니다.\n",
    "        z = self.forpass(x)       # 정방향 계산을 수행합니다.\n",
    "        a = self.sigmoid(z)       # 활성화 함수를 적용합니다.\n",
    "        err = -(y - a)            # 오차를 계산합니다.\n",
    "        # 오차를 역전파하여 그래디언트를 계산합니다.\n",
    "        w1h_grad, w1x_grad, b1_grad, w2_grad, b2_grad = self.backprop(x, err)\n",
    "        # 셀의 가중치와 절편을 업데이트합니다.\n",
    "        self.w1h -= self.lr * w1h_grad\n",
    "        self.w1x -= self.lr * w1x_grad\n",
    "        self.b1 -= self.lr * b1_grad\n",
    "        # 출력층의 가중치와 절편을 업데이트합니다.\n",
    "        self.w2 -= self.lr * w2_grad\n",
    "        self.b2 -= self.lr * b2_grad\n",
    "        return a\n",
    "   \n",
    "    def predict(self, x):\n",
    "        z = self.forpass(x)          # 정방향 계산을 수행합니다.\n",
    "        return z > 0                 # 스텝 함수를 적용합니다.\n",
    "    \n",
    "    def score(self, x, y):\n",
    "        # 예측과 타깃 열 벡터를 비교하여 True의 비율을 반환합니다.\n",
    "        return np.mean(self.predict(x) == y.reshape(-1, 1))\n",
    "\n",
    "    def update_val_loss(self, x_val, y_val):\n",
    "        z = self.forpass(x_val)            # 정방향 계산을 수행합니다.\n",
    "        a = self.sigmoid(z)                # 활성화 함수를 적용합니다.\n",
    "        a = np.clip(a, 1e-10, 1-1e-10)     # 출력 값을 클리핑합니다.\n",
    "        val_loss = np.mean(-(y_val*np.log(a) + (1-y_val)*np.log(1-a)))\n",
    "        self.val_losses.append(val_loss)"
   ]
  },
  {
   "cell_type": "code",
   "execution_count": 28,
   "metadata": {
    "scrolled": true
   },
   "outputs": [
    {
     "name": "stdout",
     "output_type": "stream",
     "text": [
      "에포크 0 .................................................................................................................................................................................................................................................................................................................................................................................................................................................................................................................................................................................................................................................\n",
      "에포크 1 .................................................................................................................................................................................................................................................................................................................................................................................................................................................................................................................................................................................................................................................\n",
      "에포크 2 .................................................................................................................................................................................................................................................................................................................................................................................................................................................................................................................................................................................................................................................\n",
      "에포크 3 .................................................................................................................................................................................................................................................................................................................................................................................................................................................................................................................................................................................................................................................\n",
      "에포크 4 .................................................................................................................................................................................................................................................................................................................................................................................................................................................................................................................................................................................................................................................\n",
      "에포크 5 .................................................................................................................................................................................................................................................................................................................................................................................................................................................................................................................................................................................................................................................\n",
      "에포크 6 .................................................................................................................................................................................................................................................................................................................................................................................................................................................................................................................................................................................................................................................\n",
      "에포크 7 .................................................................................................................................................................................................................................................................................................................................................................................................................................................................................................................................................................................................................................................\n",
      "에포크 8 .................................................................................................................................................................................................................................................................................................................................................................................................................................................................................................................................................................................................................................................\n",
      "에포크 9 .................................................................................................................................................................................................................................................................................................................................................................................................................................................................................................................................................................................................................................................\n",
      "에포크 10 .................................................................................................................................................................................................................................................................................................................................................................................................................................................................................................................................................................................................................................................\n",
      "에포크 11 .................................................................................................................................................................................................................................................................................................................................................................................................................................................................................................................................................................................................................................................\n"
     ]
    },
    {
     "name": "stdout",
     "output_type": "stream",
     "text": [
      "에포크 12 .................................................................................................................................................................................................................................................................................................................................................................................................................................................................................................................................................................................................................................................\n",
      "에포크 13 .................................................................................................................................................................................................................................................................................................................................................................................................................................................................................................................................................................................................................................................\n",
      "에포크 14 .................................................................................................................................................................................................................................................................................................................................................................................................................................................................................................................................................................................................................................................\n",
      "에포크 15 .................................................................................................................................................................................................................................................................................................................................................................................................................................................................................................................................................................................................................................................\n",
      "에포크 16 .................................................................................................................................................................................................................................................................................................................................................................................................................................................................................................................................................................................................................................................\n",
      "에포크 17 .................................................................................................................................................................................................................................................................................................................................................................................................................................................................................................................................................................................................................................................\n",
      "에포크 18 .................................................................................................................................................................................................................................................................................................................................................................................................................................................................................................................................................................................................................................................\n",
      "에포크 19 .................................................................................................................................................................................................................................................................................................................................................................................................................................................................................................................................................................................................................................................\n"
     ]
    }
   ],
   "source": [
    "rn = RecurrentNetwork(n_cells=32, batch_size=32, learning_rate=0.01)\n",
    "\n",
    "rn.fit(x_train_onehot, y_train, epochs=20, x_val=x_val_onehot, y_val=y_val)"
   ]
  },
  {
   "cell_type": "code",
   "execution_count": 29,
   "metadata": {},
   "outputs": [
    {
     "data": {
      "image/png": "[encoded data removed]",
      "text/plain": [
       "<Figure size 432x288 with 1 Axes>"
      ]
     },
     "metadata": {
      "needs_background": "light"
     },
     "output_type": "display_data"
    }
   ],
   "source": [
    "import matplotlib.pyplot as plt\n",
    "plt.plot(rn.losses)\n",
    "plt.plot(rn.val_losses)\n",
    "plt.show()"
   ]
  },
  {
   "cell_type": "code",
   "execution_count": 30,
   "metadata": {},
   "outputs": [
    {
     "data": {
      "text/plain": [
       "0.688"
      ]
     },
     "execution_count": 30,
     "metadata": {},
     "output_type": "execute_result"
    }
   ],
   "source": [
    "rn.score(x_val_onehot, y_val)"
   ]
  },
  {
   "cell_type": "code",
   "execution_count": 31,
   "metadata": {},
   "outputs": [],
   "source": [
    "from tensorflow.keras.models import Sequential\n",
    "from tensorflow.keras.layers import Dense, SimpleRNN"
   ]
  },
  {
   "cell_type": "code",
   "execution_count": 32,
   "metadata": {},
   "outputs": [
    {
     "name": "stdout",
     "output_type": "stream",
     "text": [
      "Model: \"sequential\"\n",
      "_________________________________________________________________\n",
      "Layer (type)                 Output Shape              Param #   \n",
      "=================================================================\n",
      "simple_rnn (SimpleRNN)       (None, 32)                4256      \n",
      "_________________________________________________________________\n",
      "dense (Dense)                (None, 1)                 33        \n",
      "=================================================================\n",
      "Total params: 4,289\n",
      "Trainable params: 4,289\n",
      "Non-trainable params: 0\n",
      "_________________________________________________________________\n"
     ]
    }
   ],
   "source": [
    "model = Sequential()\n",
    "\n",
    "model.add(SimpleRNN(32, input_shape=(100, 100)))\n",
    "model.add(Dense(1, activation='sigmoid'))\n",
    "\n",
    "model.summary()"
   ]
  },
  {
   "cell_type": "code",
   "execution_count": 33,
   "metadata": {},
   "outputs": [
    {
     "name": "stdout",
     "output_type": "stream",
     "text": [
      "Epoch 1/20\n",
      "625/625 [==============================] - 6s 10ms/step - loss: 0.7017 - accuracy: 0.5084 - val_loss: 0.6916 - val_accuracy: 0.5322\n",
      "Epoch 2/20\n",
      "625/625 [==============================] - 6s 9ms/step - loss: 0.6909 - accuracy: 0.5300 - val_loss: 0.6856 - val_accuracy: 0.5514\n",
      "Epoch 3/20\n",
      "625/625 [==============================] - 5s 8ms/step - loss: 0.6818 - accuracy: 0.5633 - val_loss: 0.6668 - val_accuracy: 0.5992\n",
      "Epoch 4/20\n",
      "625/625 [==============================] - 5s 7ms/step - loss: 0.6621 - accuracy: 0.6004 - val_loss: 0.6514 - val_accuracy: 0.6194\n",
      "Epoch 5/20\n",
      "625/625 [==============================] - 5s 7ms/step - loss: 0.6415 - accuracy: 0.6320 - val_loss: 0.6243 - val_accuracy: 0.6602\n",
      "Epoch 6/20\n",
      "625/625 [==============================] - 5s 7ms/step - loss: 0.6348 - accuracy: 0.6457 - val_loss: 0.6145 - val_accuracy: 0.6666\n",
      "Epoch 7/20\n",
      "625/625 [==============================] - 5s 7ms/step - loss: 0.6180 - accuracy: 0.6611 - val_loss: 0.6262 - val_accuracy: 0.6464\n",
      "Epoch 8/20\n",
      "625/625 [==============================] - 5s 7ms/step - loss: 0.6024 - accuracy: 0.6780 - val_loss: 0.6391 - val_accuracy: 0.6338\n",
      "Epoch 9/20\n",
      "625/625 [==============================] - 5s 7ms/step - loss: 0.6060 - accuracy: 0.6786 - val_loss: 0.6263 - val_accuracy: 0.6434\n",
      "Epoch 10/20\n",
      "625/625 [==============================] - 5s 7ms/step - loss: 0.5908 - accuracy: 0.6886 - val_loss: 0.5714 - val_accuracy: 0.7092\n",
      "Epoch 11/20\n",
      "625/625 [==============================] - 5s 7ms/step - loss: 0.5861 - accuracy: 0.6936 - val_loss: 0.6166 - val_accuracy: 0.6666\n",
      "Epoch 12/20\n",
      "625/625 [==============================] - 5s 7ms/step - loss: 0.5802 - accuracy: 0.6982 - val_loss: 0.5807 - val_accuracy: 0.6960\n",
      "Epoch 13/20\n",
      "625/625 [==============================] - 5s 7ms/step - loss: 0.5816 - accuracy: 0.6970 - val_loss: 0.5941 - val_accuracy: 0.6784\n",
      "Epoch 14/20\n",
      "625/625 [==============================] - 5s 7ms/step - loss: 0.5755 - accuracy: 0.7005 - val_loss: 0.5907 - val_accuracy: 0.6838\n",
      "Epoch 15/20\n",
      "625/625 [==============================] - 5s 7ms/step - loss: 0.5693 - accuracy: 0.7060 - val_loss: 0.5654 - val_accuracy: 0.7120\n",
      "Epoch 16/20\n",
      "625/625 [==============================] - 5s 7ms/step - loss: 0.5709 - accuracy: 0.7070 - val_loss: 0.5625 - val_accuracy: 0.7158\n",
      "Epoch 17/20\n",
      "625/625 [==============================] - 5s 7ms/step - loss: 0.5733 - accuracy: 0.7038 - val_loss: 0.6020 - val_accuracy: 0.6682\n",
      "Epoch 18/20\n",
      "625/625 [==============================] - 5s 7ms/step - loss: 0.5671 - accuracy: 0.7072 - val_loss: 0.5797 - val_accuracy: 0.7010\n",
      "Epoch 19/20\n",
      "625/625 [==============================] - 5s 7ms/step - loss: 0.5658 - accuracy: 0.7086 - val_loss: 0.5692 - val_accuracy: 0.7040\n",
      "Epoch 20/20\n",
      "625/625 [==============================] - 5s 7ms/step - loss: 0.5634 - accuracy: 0.7109 - val_loss: 0.5646 - val_accuracy: 0.7086\n"
     ]
    }
   ],
   "source": [
    "model.compile(optimizer='sgd', loss='binary_crossentropy', metrics=['accuracy'])\n",
    "\n",
    "history = model.fit(x_train_onehot, y_train, epochs=20, batch_size=32, \n",
    "                    validation_data=(x_val_onehot, y_val))"
   ]
  },
  {
   "cell_type": "code",
   "execution_count": 34,
   "metadata": {},
   "outputs": [
    {
     "data": {
      "image/png": "[encoded data removed]",
      "text/plain": [
       "<Figure size 432x288 with 1 Axes>"
      ]
     },
     "metadata": {
      "needs_background": "light"
     },
     "output_type": "display_data"
    }
   ],
   "source": [
    "plt.plot(history.history['loss'])\n",
    "plt.plot(history.history['val_loss'])\n",
    "plt.show()"
   ]
  },
  {
   "cell_type": "code",
   "execution_count": 35,
   "metadata": {},
   "outputs": [
    {
     "data": {
      "image/png": "[encoded data removed]",
      "text/plain": [
       "<Figure size 432x288 with 1 Axes>"
      ]
     },
     "metadata": {
      "needs_background": "light"
     },
     "output_type": "display_data"
    }
   ],
   "source": [
    "plt.plot(history.history['accuracy'])\n",
    "plt.plot(history.history['val_accuracy'])\n",
    "plt.show()"
   ]
  },
  {
   "cell_type": "code",
   "execution_count": 36,
   "metadata": {},
   "outputs": [
    {
     "name": "stdout",
     "output_type": "stream",
     "text": [
      "0.7085999846458435\n"
     ]
    }
   ],
   "source": [
    "loss, accuracy = model.evaluate(x_val_onehot, y_val, verbose=0)\n",
    "print(accuracy)"
   ]
  },
  {
   "cell_type": "code",
   "execution_count": 37,
   "metadata": {},
   "outputs": [],
   "source": [
    "from tensorflow.keras.layers import Embedding"
   ]
  },
  {
   "cell_type": "code",
   "execution_count": 38,
   "metadata": {},
   "outputs": [],
   "source": [
    "(x_train_all, y_train_all), (x_test, y_test) = imdb.load_data(skip_top=20, num_words=1000)\n",
    "\n",
    "for i in range(len(x_train_all)):\n",
    "    x_train_all[i] = [w for w in x_train_all[i] if w > 2]\n",
    "    \n",
    "x_train = x_train_all[random_index[:20000]]\n",
    "y_train = y_train_all[random_index[:20000]]\n",
    "x_val = x_train_all[random_index[20000:]]\n",
    "y_val = y_train_all[random_index[20000:]]"
   ]
  },
  {
   "cell_type": "code",
   "execution_count": 39,
   "metadata": {},
   "outputs": [],
   "source": [
    "maxlen=100\n",
    "x_train_seq = sequence.pad_sequences(x_train, maxlen=maxlen)\n",
    "x_val_seq = sequence.pad_sequences(x_val, maxlen=maxlen)"
   ]
  },
  {
   "cell_type": "code",
   "execution_count": 40,
   "metadata": {},
   "outputs": [
    {
     "name": "stdout",
     "output_type": "stream",
     "text": [
      "Model: \"sequential_1\"\n",
      "_________________________________________________________________\n",
      "Layer (type)                 Output Shape              Param #   \n",
      "=================================================================\n",
      "embedding (Embedding)        (None, None, 32)          32000     \n",
      "_________________________________________________________________\n",
      "simple_rnn_1 (SimpleRNN)     (None, 8)                 328       \n",
      "_________________________________________________________________\n",
      "dense_1 (Dense)              (None, 1)                 9         \n",
      "=================================================================\n",
      "Total params: 32,337\n",
      "Trainable params: 32,337\n",
      "Non-trainable params: 0\n",
      "_________________________________________________________________\n"
     ]
    }
   ],
   "source": [
    "model_ebd = Sequential()\n",
    "\n",
    "model_ebd.add(Embedding(1000, 32))\n",
    "model_ebd.add(SimpleRNN(8))\n",
    "model_ebd.add(Dense(1, activation='sigmoid'))\n",
    "\n",
    "model_ebd.summary()"
   ]
  },
  {
   "cell_type": "code",
   "execution_count": 41,
   "metadata": {},
   "outputs": [
    {
     "name": "stdout",
     "output_type": "stream",
     "text": [
      "Epoch 1/10\n",
      "625/625 [==============================] - 6s 10ms/step - loss: 0.6650 - accuracy: 0.5796 - val_loss: 0.5455 - val_accuracy: 0.7322\n",
      "Epoch 2/10\n",
      "625/625 [==============================] - 5s 8ms/step - loss: 0.4724 - accuracy: 0.7850 - val_loss: 0.4879 - val_accuracy: 0.7766\n",
      "Epoch 3/10\n",
      "625/625 [==============================] - 5s 8ms/step - loss: 0.4131 - accuracy: 0.8206 - val_loss: 0.4616 - val_accuracy: 0.7914\n",
      "Epoch 4/10\n",
      "625/625 [==============================] - 5s 8ms/step - loss: 0.4034 - accuracy: 0.8217 - val_loss: 0.4618 - val_accuracy: 0.7898\n",
      "Epoch 5/10\n",
      "625/625 [==============================] - 5s 8ms/step - loss: 0.3769 - accuracy: 0.8364 - val_loss: 0.4329 - val_accuracy: 0.8028\n",
      "Epoch 6/10\n",
      "625/625 [==============================] - 5s 8ms/step - loss: 0.3488 - accuracy: 0.8544 - val_loss: 0.4281 - val_accuracy: 0.8156\n",
      "Epoch 7/10\n",
      "625/625 [==============================] - 5s 8ms/step - loss: 0.3497 - accuracy: 0.8520 - val_loss: 0.4807 - val_accuracy: 0.7836\n",
      "Epoch 8/10\n",
      "625/625 [==============================] - 5s 8ms/step - loss: 0.3499 - accuracy: 0.8545 - val_loss: 0.4364 - val_accuracy: 0.8130\n",
      "Epoch 9/10\n",
      "625/625 [==============================] - 5s 8ms/step - loss: 0.3636 - accuracy: 0.8486 - val_loss: 0.4733 - val_accuracy: 0.7906\n",
      "Epoch 10/10\n",
      "625/625 [==============================] - 5s 8ms/step - loss: 0.3952 - accuracy: 0.8242 - val_loss: 0.4532 - val_accuracy: 0.7976\n"
     ]
    }
   ],
   "source": [
    "model_ebd.compile(optimizer='adam', loss='binary_crossentropy', metrics=['accuracy'])\n",
    "\n",
    "history = model_ebd.fit(x_train_seq, y_train, epochs=10, batch_size=32, \n",
    "                        validation_data=(x_val_seq, y_val))"
   ]
  },
  {
   "cell_type": "code",
   "execution_count": 42,
   "metadata": {},
   "outputs": [
    {
     "data": {
      "image/png": "[encoded data removed]",
      "text/plain": [
       "<Figure size 432x288 with 1 Axes>"
      ]
     },
     "metadata": {
      "needs_background": "light"
     },
     "output_type": "display_data"
    }
   ],
   "source": [
    "plt.plot(history.history['loss'])\n",
    "plt.plot(history.history['val_loss'])\n",
    "plt.show()"
   ]
  },
  {
   "cell_type": "code",
   "execution_count": 43,
   "metadata": {},
   "outputs": [
    {
     "data": {
      "image/png": "[encoded data removed]",
      "text/plain": [
       "<Figure size 432x288 with 1 Axes>"
      ]
     },
     "metadata": {
      "needs_background": "light"
     },
     "output_type": "display_data"
    }
   ],
   "source": [
    "plt.plot(history.history['accuracy'])\n",
    "plt.plot(history.history['val_accuracy'])\n",
    "plt.show()"
   ]
  },
  {
   "cell_type": "code",
   "execution_count": 44,
   "metadata": {},
   "outputs": [
    {
     "name": "stdout",
     "output_type": "stream",
     "text": [
      "0.7975999712944031\n"
     ]
    }
   ],
   "source": [
    "loss, accuracy = model_ebd.evaluate(x_val_seq, y_val, verbose=0)\n",
    "print(accuracy)"
   ]
  },
  {
   "cell_type": "code",
   "execution_count": 95,
   "metadata": {},
   "outputs": [],
   "source": [
    "from tensorflow.keras.layers import LSTM"
   ]
  },
  {
   "cell_type": "code",
   "execution_count": 96,
   "metadata": {},
   "outputs": [
    {
     "name": "stdout",
     "output_type": "stream",
     "text": [
      "Model: \"sequential_6\"\n",
      "_________________________________________________________________\n",
      "Layer (type)                 Output Shape              Param #   \n",
      "=================================================================\n",
      "embedding_3 (Embedding)      (None, None, 32)          32000     \n",
      "_________________________________________________________________\n",
      "lstm_1 (LSTM)                (None, 8)                 1312      \n",
      "_________________________________________________________________\n",
      "dense_6 (Dense)              (None, 1)                 9         \n",
      "=================================================================\n",
      "Total params: 33,321\n",
      "Trainable params: 33,321\n",
      "Non-trainable params: 0\n",
      "_________________________________________________________________\n"
     ]
    }
   ],
   "source": [
    "model_lstm = Sequential()\n",
    "\n",
    "model_lstm.add(Embedding(1000, 32))\n",
    "model_lstm.add(LSTM(8))\n",
    "model_lstm.add(Dense(1, activation='sigmoid'))\n",
    "\n",
    "model_lstm.summary()"
   ]
  },
  {
   "cell_type": "code",
   "execution_count": 97,
   "metadata": {},
   "outputs": [
    {
     "name": "stdout",
     "output_type": "stream",
     "text": [
      "Train on 20000 samples, validate on 5000 samples\n",
      "Epoch 1/10\n",
      "20000/20000 [==============================] - 11s 561us/sample - loss: 0.4492 - accuracy: 0.7954 - val_loss: 0.4241 - val_accuracy: 0.8172\n",
      "Epoch 2/10\n",
      "20000/20000 [==============================] - 10s 521us/sample - loss: 0.3333 - accuracy: 0.8597 - val_loss: 0.3584 - val_accuracy: 0.8424\n",
      "Epoch 3/10\n",
      "20000/20000 [==============================] - 11s 525us/sample - loss: 0.3060 - accuracy: 0.8720 - val_loss: 0.3644 - val_accuracy: 0.8326\n",
      "Epoch 4/10\n",
      "20000/20000 [==============================] - 10s 520us/sample - loss: 0.2890 - accuracy: 0.8808 - val_loss: 0.3721 - val_accuracy: 0.8380\n",
      "Epoch 5/10\n",
      "20000/20000 [==============================] - 10s 508us/sample - loss: 0.2743 - accuracy: 0.8861 - val_loss: 0.3780 - val_accuracy: 0.8334\n",
      "Epoch 6/10\n",
      "20000/20000 [==============================] - 11s 548us/sample - loss: 0.2658 - accuracy: 0.8913 - val_loss: 0.3807 - val_accuracy: 0.8324\n",
      "Epoch 7/10\n",
      "20000/20000 [==============================] - 11s 528us/sample - loss: 0.2502 - accuracy: 0.8978 - val_loss: 0.4107 - val_accuracy: 0.8282\n",
      "Epoch 8/10\n",
      "20000/20000 [==============================] - 10s 511us/sample - loss: 0.2404 - accuracy: 0.9003 - val_loss: 0.4084 - val_accuracy: 0.8296\n",
      "Epoch 9/10\n",
      "20000/20000 [==============================] - 10s 522us/sample - loss: 0.2306 - accuracy: 0.9045 - val_loss: 0.3978 - val_accuracy: 0.8220\n",
      "Epoch 10/10\n",
      "20000/20000 [==============================] - 10s 498us/sample - loss: 0.2232 - accuracy: 0.9091 - val_loss: 0.4461 - val_accuracy: 0.8322\n"
     ]
    }
   ],
   "source": [
    "model_lstm.compile(optimizer='adam', loss='binary_crossentropy', metrics=['accuracy'])\n",
    "\n",
    "history = model_lstm.fit(x_train_seq, y_train, epochs=10, batch_size=32, \n",
    "                         validation_data=(x_val_seq, y_val))"
   ]
  },
  {
   "cell_type": "code",
   "execution_count": 98,
   "metadata": {},
   "outputs": [
    {
     "data": {
      "image/png": "[encoded data removed]",
      "text/plain": [
       "<Figure size 432x288 with 1 Axes>"
      ]
     },
     "metadata": {
      "needs_background": "light"
     },
     "output_type": "display_data"
    }
   ],
   "source": [
    "plt.plot(history.history['loss'])\n",
    "plt.plot(history.history['val_loss'])\n",
    "plt.show()"
   ]
  },
  {
   "cell_type": "code",
   "execution_count": 99,
   "metadata": {},
   "outputs": [
    {
     "data": {
      "image/png": "[encoded data removed]",
      "text/plain": [
       "<Figure size 432x288 with 1 Axes>"
      ]
     },
     "metadata": {
      "needs_background": "light"
     },
     "output_type": "display_data"
    }
   ],
   "source": [
    "plt.plot(history.history['accuracy'])\n",
    "plt.plot(history.history['val_accuracy'])\n",
    "plt.show()"
   ]
  },
  {
   "cell_type": "code",
   "execution_count": 100,
   "metadata": {},
   "outputs": [
    {
     "name": "stdout",
     "output_type": "stream",
     "text": [
      "0.8322\n"
     ]
    }
   ],
   "source": [
    "loss, accuracy = model_lstm.evaluate(x_val_seq, y_val, verbose=0)\n",
    "print(accuracy)"
   ]
  },
  {
   "cell_type": "code",
   "execution_count": null,
   "metadata": {},
   "outputs": [],
   "source": []
  }
 ],
 "metadata": {
  "kernelspec": {
   "display_name": "Python 3",
   "language": "python",
   "name": "python3"
  },
  "language_info": {
   "codemirror_mode": {
    "name": "ipython",
    "version": 3
   },
   "file_extension": ".py",
   "mimetype": "text/x-python",
   "name": "python",
   "nbconvert_exporter": "python",
   "pygments_lexer": "ipython3",
   "version": "3.8.3"
  }
 },
 "nbformat": 4,
 "nbformat_minor": 4
}
