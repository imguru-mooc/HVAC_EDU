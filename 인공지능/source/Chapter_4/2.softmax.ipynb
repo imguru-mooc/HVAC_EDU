{
 "cells": [
  {
   "cell_type": "code",
   "execution_count": 1,
   "metadata": {
    "scrolled": false
   },
   "outputs": [
    {
     "name": "stdout",
     "output_type": "stream",
     "text": [
      "[[9.0250135  4.01485005 2.33964685]\n",
      " [1.         0.2490753  0.11080316]]\n",
      "[[0.5868206  0.26105188 0.15212752]\n",
      " [0.73535983 0.18315997 0.08148019]]\n"
     ]
    }
   ],
   "source": [
    "import numpy as np\n",
    "temp = np.array([[2.20,1.39,0.85],\n",
    "                 [0.00,-1.39,-2.20]])\n",
    "exp_temp = np.exp(temp)\n",
    "print(exp_temp)\n",
    "ret = exp_temp / np.sum(exp_temp, axis=1).reshape(-1, 1)\n",
    "print( ret )"
   ]
  },
  {
   "cell_type": "code",
   "execution_count": 2,
   "metadata": {},
   "outputs": [],
   "source": [
    "import numpy as np\n",
    "class MultiClassNetwork:\n",
    "    \n",
    "    def __init__(self, units=10, batch_size=32, learning_rate=0.1, l1=0, l2=0):\n",
    "        self.units = units         # 은닉층의 뉴런 개수\n",
    "        self.batch_size = batch_size     # 배치 크기\n",
    "        self.w1 = None             # 은닉층의 가중치\n",
    "        self.b1 = None             # 은닉층의 절편\n",
    "        self.w2 = None             # 출력층의 가중치\n",
    "        self.b2 = None             # 출력층의 절편\n",
    "        self.a1 = None             # 은닉층의 활성화 출력\n",
    "        self.losses = []           # 훈련 손실\n",
    "        self.val_losses = []       # 검증 손실\n",
    "        self.lr = learning_rate    # 학습률\n",
    "        self.l1 = l1               # L1 손실 하이퍼파라미터\n",
    "        self.l2 = l2               # L2 손실 하이퍼파라미터\n",
    "\n",
    "    def forpass(self, x):\n",
    "        z1 = np.dot(x, self.w1) + self.b1        # 첫 번째 층의 선형 식을 계산합니다\n",
    "        self.a1 = self.sigmoid(z1)               # 활성화 함수를 적용합니다\n",
    "        z2 = np.dot(self.a1, self.w2) + self.b2  # 두 번째 층의 선형 식을 계산합니다.\n",
    "        return z2\n",
    "\n",
    "    def backprop(self, x, err):\n",
    "        m = len(x)       # 샘플 개수\n",
    "        # 출력층의 가중치와 절편에 대한 그래디언트를 계산합니다.\n",
    "        w2_grad = np.dot(self.a1.T, err) / m\n",
    "        b2_grad = np.sum(err) / m\n",
    "        # 시그모이드 함수까지 그래디언트를 계산합니다.\n",
    "        err_to_hidden = np.dot(err, self.w2.T) * self.a1 * (1 - self.a1)\n",
    "        # 은닉층의 가중치와 절편에 대한 그래디언트를 계산합니다.\n",
    "        w1_grad = np.dot(x.T, err_to_hidden) / m\n",
    "        b1_grad = np.sum(err_to_hidden, axis=0) / m\n",
    "        return w1_grad, b1_grad, w2_grad, b2_grad\n",
    "    \n",
    "    def sigmoid(self, z):\n",
    "        z = np.clip(z, -100, None)            # 안전한 np.exp() 계산을 위해\n",
    "        a = 1 / (1 + np.exp(-z))              # 시그모이드 계산\n",
    "        return a\n",
    "    \n",
    "    def softmax(self, z):\n",
    "        # 소프트맥스 함수\n",
    "        z = np.clip(z, -100, None)            # 안전한 np.exp() 계산을 위해\n",
    "        exp_z = np.exp(z)\n",
    "        return exp_z / np.sum(exp_z, axis=1).reshape(-1, 1)\n",
    " \n",
    "    def init_weights(self, n_features, n_classes):\n",
    "        self.w1 = np.random.normal(0, 1, \n",
    "                                   (n_features, self.units))  # (특성 개수, 은닉층의 크기)\n",
    "        self.b1 = np.zeros(self.units)                        # 은닉층의 크기\n",
    "        self.w2 = np.random.normal(0, 1, \n",
    "                                   (self.units, n_classes))   # (은닉층의 크기, 클래스 개수)\n",
    "        self.b2 = np.zeros(n_classes)\n",
    "        \n",
    "    def fit(self, x, y, epochs=100, x_val=None, y_val=None):\n",
    "        np.random.seed(42)\n",
    "        self.init_weights(x.shape[1], y.shape[1])    # 은닉층과 출력층의 가중치를 초기화합니다.\n",
    "        # epochs만큼 반복합니다.\n",
    "        for i in range(epochs):\n",
    "            loss = 0\n",
    "            print('.', end='')\n",
    "            # 제너레이터 함수에서 반환한 미니배치를 순환합니다.\n",
    "            for x_batch, y_batch in self.gen_batch(x, y):\n",
    "                a = self.training(x_batch, y_batch)\n",
    "                # 안전한 로그 계산을 위해 클리핑합니다.\n",
    "                a = np.clip(a, 1e-10, 1-1e-10)\n",
    "                # 로그 손실과 규제 손실을 더하여 리스트에 추가합니다.\n",
    "                loss += np.sum(-y_batch*np.log(a))\n",
    "            self.losses.append((loss + self.reg_loss()) / len(x))\n",
    "            # 검증 세트에 대한 손실을 계산합니다.\n",
    "            self.update_val_loss(x_val, y_val)\n",
    "\n",
    "    # 미니배치 제너레이터 함수\n",
    "    def gen_batch(self, x, y):\n",
    "        length = len(x)\n",
    "        bins = length // self.batch_size # 미니배치 횟수\n",
    "        if length % self.batch_size:\n",
    "            bins += 1                    # 나누어 떨어지지 않을 때\n",
    "        indexes = np.random.permutation(np.arange(len(x))) # 인덱스를 섞습니다.\n",
    "        x = x[indexes]\n",
    "        y = y[indexes]\n",
    "        for i in range(bins):\n",
    "            start = self.batch_size * i\n",
    "            end = self.batch_size * (i + 1)\n",
    "            yield x[start:end], y[start:end]   # batch_size만큼 슬라이싱하여 반환합니다.\n",
    "            \n",
    "    def training(self, x, y):\n",
    "        m = len(x)                # 샘플 개수를 저장합니다.\n",
    "        z = self.forpass(x)       # 정방향 계산을 수행합니다.\n",
    "        a = self.softmax(z)       # 활성화 함수를 적용합니다.\n",
    "        err = (a - y)            # 오차를 계산합니다.\n",
    "        # 오차를 역전파하여 그래디언트를 계산합니다.\n",
    "        w1_grad, b1_grad, w2_grad, b2_grad = self.backprop(x, err)\n",
    "        # 그래디언트에서 페널티 항의 미분 값을 뺍니다\n",
    "        w1_grad += (self.l1 * np.sign(self.w1) + self.l2 * self.w1) / m\n",
    "        w2_grad += (self.l1 * np.sign(self.w2) + self.l2 * self.w2) / m\n",
    "        # 은닉층의 가중치와 절편을 업데이트합니다.\n",
    "        self.w1 -= self.lr * w1_grad\n",
    "        self.b1 -= self.lr * b1_grad\n",
    "        # 출력층의 가중치와 절편을 업데이트합니다.\n",
    "        self.w2 -= self.lr * w2_grad\n",
    "        self.b2 -= self.lr * b2_grad\n",
    "        return a\n",
    "   \n",
    "    def predict(self, x):\n",
    "        z = self.forpass(x)          # 정방향 계산을 수행합니다.\n",
    "        return np.argmax(z, axis=1)  # 가장 큰 값의 인덱스를 반환합니다.\n",
    "    \n",
    "    def score(self, x, y):\n",
    "        # 예측과 타깃 열 벡터를 비교하여 True의 비율을 반환합니다.\n",
    "        return np.mean(self.predict(x) == np.argmax(y, axis=1))\n",
    "\n",
    "    def reg_loss(self):\n",
    "        # 은닉층과 출력층의 가중치에 규제를 적용합니다.\n",
    "        return self.l1 * (np.sum(np.abs(self.w1)) + np.sum(np.abs(self.w2))) + \\\n",
    "               self.l2 / 2 * (np.sum(self.w1**2) + np.sum(self.w2**2))\n",
    "\n",
    "    def update_val_loss(self, x_val, y_val):\n",
    "        z = self.forpass(x_val)            # 정방향 계산을 수행합니다.\n",
    "        a = self.softmax(z)                # 활성화 함수를 적용합니다.\n",
    "        a = np.clip(a, 1e-10, 1-1e-10)     # 출력 값을 클리핑합니다.\n",
    "        # 크로스 엔트로피 손실과 규제 손실을 더하여 리스트에 추가합니다.\n",
    "        val_loss = np.sum(-y_val*np.log(a))\n",
    "        self.val_losses.append((val_loss + self.reg_loss()) / len(y_val))"
   ]
  },
  {
   "cell_type": "code",
   "execution_count": 3,
   "metadata": {},
   "outputs": [
    {
     "data": {
      "text/plain": [
       "'2.4.0'"
      ]
     },
     "execution_count": 3,
     "metadata": {},
     "output_type": "execute_result"
    }
   ],
   "source": [
    "import tensorflow as tf\n",
    "tf.__version__"
   ]
  },
  {
   "cell_type": "code",
   "execution_count": 4,
   "metadata": {},
   "outputs": [
    {
     "name": "stdout",
     "output_type": "stream",
     "text": [
      "(60000, 28, 28) (60000,)\n"
     ]
    }
   ],
   "source": [
    "(x_train_all, y_train_all), (x_test, y_test) = tf.keras.datasets.fashion_mnist.load_data()\n",
    "\n",
    "print(x_train_all.shape, y_train_all.shape)"
   ]
  },
  {
   "cell_type": "code",
   "execution_count": 9,
   "metadata": {},
   "outputs": [
    {
     "data": {
      "image/png": "[encoded data removed]",
      "text/plain": [
       "<Figure size 432x288 with 1 Axes>"
      ]
     },
     "metadata": {
      "needs_background": "light"
     },
     "output_type": "display_data"
    }
   ],
   "source": [
    "import matplotlib.pyplot as plt\n",
    "# print(x_train_all[0])\n",
    "plt.imshow(x_train_all[0], cmap='gray')\n",
    "plt.show()"
   ]
  },
  {
   "cell_type": "code",
   "execution_count": 11,
   "metadata": {
    "scrolled": true
   },
   "outputs": [
    {
     "name": "stdout",
     "output_type": "stream",
     "text": [
      "[9 0 0 3 0 2 7 2 5 5]\n"
     ]
    }
   ],
   "source": [
    "print(y_train_all[:10])"
   ]
  },
  {
   "cell_type": "code",
   "execution_count": 12,
   "metadata": {},
   "outputs": [],
   "source": [
    "class_names = ['티셔츠/윗도리', '바지', '스웨터', '드레스', '코트', \n",
    "               '샌들', '셔츠', '스니커즈', '가방', '앵클부츠']"
   ]
  },
  {
   "cell_type": "code",
   "execution_count": 13,
   "metadata": {},
   "outputs": [
    {
     "name": "stdout",
     "output_type": "stream",
     "text": [
      "앵클부츠\n"
     ]
    }
   ],
   "source": [
    "print(class_names[y_train_all[0]])"
   ]
  },
  {
   "cell_type": "code",
   "execution_count": 20,
   "metadata": {},
   "outputs": [
    {
     "data": {
      "text/plain": [
       "array([2, 2, 4, 3], dtype=int64)"
      ]
     },
     "execution_count": 20,
     "metadata": {},
     "output_type": "execute_result"
    }
   ],
   "source": [
    "temp = np.array([0,0,1,1,2,2,2,2,3,3,3])\n",
    "np.bincount(temp)"
   ]
  },
  {
   "cell_type": "code",
   "execution_count": 14,
   "metadata": {},
   "outputs": [
    {
     "name": "stdout",
     "output_type": "stream",
     "text": [
      "[3 2 1 3 2]\n"
     ]
    }
   ],
   "source": [
    "a = np.array([0,4,4,1,3,3,3,2,1,0,0])\n",
    "print(np.bincount(a))"
   ]
  },
  {
   "cell_type": "code",
   "execution_count": 15,
   "metadata": {},
   "outputs": [
    {
     "data": {
      "text/plain": [
       "array([6000, 6000, 6000, 6000, 6000, 6000, 6000, 6000, 6000, 6000],\n",
       "      dtype=int64)"
      ]
     },
     "execution_count": 15,
     "metadata": {},
     "output_type": "execute_result"
    }
   ],
   "source": [
    "np.bincount(y_train_all)"
   ]
  },
  {
   "cell_type": "code",
   "execution_count": 16,
   "metadata": {},
   "outputs": [],
   "source": [
    "from sklearn.model_selection import train_test_split"
   ]
  },
  {
   "cell_type": "code",
   "execution_count": 17,
   "metadata": {},
   "outputs": [],
   "source": [
    "x_train, x_val, y_train, y_val = train_test_split(x_train_all, y_train_all, stratify=y_train_all, \n",
    "                                                  test_size=0.2, random_state=42)"
   ]
  },
  {
   "cell_type": "code",
   "execution_count": 20,
   "metadata": {},
   "outputs": [
    {
     "data": {
      "text/plain": [
       "array([4800, 4800, 4800, 4800, 4800, 4800, 4800, 4800, 4800, 4800],\n",
       "      dtype=int64)"
      ]
     },
     "execution_count": 20,
     "metadata": {},
     "output_type": "execute_result"
    }
   ],
   "source": [
    "np.bincount(y_train)"
   ]
  },
  {
   "cell_type": "code",
   "execution_count": 21,
   "metadata": {},
   "outputs": [
    {
     "data": {
      "text/plain": [
       "array([1200, 1200, 1200, 1200, 1200, 1200, 1200, 1200, 1200, 1200],\n",
       "      dtype=int64)"
      ]
     },
     "execution_count": 21,
     "metadata": {},
     "output_type": "execute_result"
    }
   ],
   "source": [
    "np.bincount(y_val)"
   ]
  },
  {
   "cell_type": "code",
   "execution_count": 22,
   "metadata": {},
   "outputs": [],
   "source": [
    "x_train = x_train / 255\n",
    "x_val = x_val / 255"
   ]
  },
  {
   "cell_type": "code",
   "execution_count": 23,
   "metadata": {},
   "outputs": [],
   "source": [
    "x_train = x_train.reshape(-1, 784)\n",
    "x_val = x_val.reshape(-1, 784)"
   ]
  },
  {
   "cell_type": "code",
   "execution_count": 24,
   "metadata": {},
   "outputs": [
    {
     "name": "stdout",
     "output_type": "stream",
     "text": [
      "(48000, 784) (12000, 784)\n"
     ]
    }
   ],
   "source": [
    "print(x_train.shape, x_val.shape)"
   ]
  },
  {
   "cell_type": "code",
   "execution_count": 25,
   "metadata": {},
   "outputs": [
    {
     "data": {
      "text/plain": [
       "array([[1., 0., 0., 0.],\n",
       "       [0., 1., 0., 0.],\n",
       "       [0., 0., 0., 1.]], dtype=float32)"
      ]
     },
     "execution_count": 25,
     "metadata": {},
     "output_type": "execute_result"
    }
   ],
   "source": [
    "tf.keras.utils.to_categorical([0, 1, 3])"
   ]
  },
  {
   "cell_type": "code",
   "execution_count": 27,
   "metadata": {},
   "outputs": [],
   "source": [
    "y_train_encoded = tf.keras.utils.to_categorical(y_train)\n",
    "y_val_encoded = tf.keras.utils.to_categorical(y_val)"
   ]
  },
  {
   "cell_type": "code",
   "execution_count": 28,
   "metadata": {},
   "outputs": [
    {
     "name": "stdout",
     "output_type": "stream",
     "text": [
      "(48000, 10) (12000, 10)\n"
     ]
    }
   ],
   "source": [
    "print(y_train_encoded.shape, y_val_encoded.shape)"
   ]
  },
  {
   "cell_type": "code",
   "execution_count": 29,
   "metadata": {},
   "outputs": [
    {
     "name": "stdout",
     "output_type": "stream",
     "text": [
      "6 [0. 0. 0. 0. 0. 0. 1. 0. 0. 0.]\n"
     ]
    }
   ],
   "source": [
    "print(y_train[0], y_train_encoded[0])"
   ]
  },
  {
   "cell_type": "code",
   "execution_count": 30,
   "metadata": {},
   "outputs": [
    {
     "name": "stdout",
     "output_type": "stream",
     "text": [
      "........................................"
     ]
    }
   ],
   "source": [
    "fc = MultiClassNetwork(units=100, batch_size=256)\n",
    "fc.fit(x_train, y_train_encoded, \n",
    "       x_val=x_val, y_val=y_val_encoded, epochs=40)"
   ]
  },
  {
   "cell_type": "code",
   "execution_count": 31,
   "metadata": {},
   "outputs": [
    {
     "data": {
      "image/png": "[encoded data removed]",
      "text/plain": [
       "<Figure size 432x288 with 1 Axes>"
      ]
     },
     "metadata": {
      "needs_background": "light"
     },
     "output_type": "display_data"
    }
   ],
   "source": [
    "plt.plot(fc.losses)\n",
    "plt.plot(fc.val_losses)\n",
    "plt.ylabel('loss')\n",
    "plt.xlabel('iteration')\n",
    "plt.legend(['train_loss', 'val_loss'])\n",
    "plt.show()"
   ]
  },
  {
   "cell_type": "code",
   "execution_count": 32,
   "metadata": {},
   "outputs": [],
   "source": [
    "from tensorflow.keras import Sequential\n",
    "from tensorflow.keras.layers import Dense"
   ]
  },
  {
   "cell_type": "code",
   "execution_count": 33,
   "metadata": {},
   "outputs": [],
   "source": [
    "model = Sequential()\n",
    "model.add(Dense(100, activation='sigmoid', input_shape=(784,)))  # (256,784)(784,100)+(100,) => (256,100)\n",
    "model.add(Dense(10, activation='softmax'))    # (256,100)(100,10)+(10,) => (256,10)"
   ]
  },
  {
   "cell_type": "code",
   "execution_count": 34,
   "metadata": {},
   "outputs": [],
   "source": [
    "model.compile(optimizer='sgd', loss='categorical_crossentropy',\n",
    "              metrics=['accuracy'])"
   ]
  },
  {
   "cell_type": "code",
   "execution_count": 35,
   "metadata": {},
   "outputs": [
    {
     "name": "stdout",
     "output_type": "stream",
     "text": [
      "Epoch 1/40\n",
      "1500/1500 [==============================] - 5s 3ms/step - loss: 1.7410 - accuracy: 0.5262 - val_loss: 0.9579 - val_accuracy: 0.7361\n",
      "Epoch 2/40\n",
      "1500/1500 [==============================] - 3s 2ms/step - loss: 0.8935 - accuracy: 0.7335 - val_loss: 0.7506 - val_accuracy: 0.7607\n",
      "Epoch 3/40\n",
      "1500/1500 [==============================] - 3s 2ms/step - loss: 0.7331 - accuracy: 0.7579 - val_loss: 0.6652 - val_accuracy: 0.7804\n",
      "Epoch 4/40\n",
      "1500/1500 [==============================] - 3s 2ms/step - loss: 0.6549 - accuracy: 0.7790 - val_loss: 0.6138 - val_accuracy: 0.7936\n",
      "Epoch 5/40\n",
      "1500/1500 [==============================] - 3s 2ms/step - loss: 0.6110 - accuracy: 0.7933 - val_loss: 0.5787 - val_accuracy: 0.8037\n",
      "Epoch 6/40\n",
      "1500/1500 [==============================] - 3s 2ms/step - loss: 0.5817 - accuracy: 0.8008 - val_loss: 0.5519 - val_accuracy: 0.8086\n",
      "Epoch 7/40\n",
      "1500/1500 [==============================] - 3s 2ms/step - loss: 0.5623 - accuracy: 0.8067 - val_loss: 0.5308 - val_accuracy: 0.8152\n",
      "Epoch 8/40\n",
      "1500/1500 [==============================] - 3s 2ms/step - loss: 0.5384 - accuracy: 0.8131 - val_loss: 0.5152 - val_accuracy: 0.8216\n",
      "Epoch 9/40\n",
      "1500/1500 [==============================] - 3s 2ms/step - loss: 0.5195 - accuracy: 0.8222 - val_loss: 0.5013 - val_accuracy: 0.8252\n",
      "Epoch 10/40\n",
      "1500/1500 [==============================] - 3s 2ms/step - loss: 0.5137 - accuracy: 0.8215 - val_loss: 0.4907 - val_accuracy: 0.8291\n",
      "Epoch 11/40\n",
      "1500/1500 [==============================] - 3s 2ms/step - loss: 0.4977 - accuracy: 0.8293 - val_loss: 0.4816 - val_accuracy: 0.8327\n",
      "Epoch 12/40\n",
      "1500/1500 [==============================] - 3s 2ms/step - loss: 0.4955 - accuracy: 0.8285 - val_loss: 0.4730 - val_accuracy: 0.8353\n",
      "Epoch 13/40\n",
      "1500/1500 [==============================] - 3s 2ms/step - loss: 0.4864 - accuracy: 0.8301 - val_loss: 0.4650 - val_accuracy: 0.8368\n",
      "Epoch 14/40\n",
      "1500/1500 [==============================] - 3s 2ms/step - loss: 0.4738 - accuracy: 0.8373 - val_loss: 0.4604 - val_accuracy: 0.8375\n",
      "Epoch 15/40\n",
      "1500/1500 [==============================] - 3s 2ms/step - loss: 0.4717 - accuracy: 0.8353 - val_loss: 0.4536 - val_accuracy: 0.8419\n",
      "Epoch 16/40\n",
      "1500/1500 [==============================] - 3s 2ms/step - loss: 0.4638 - accuracy: 0.8381 - val_loss: 0.4481 - val_accuracy: 0.8416\n",
      "Epoch 17/40\n",
      "1500/1500 [==============================] - 3s 2ms/step - loss: 0.4599 - accuracy: 0.8403 - val_loss: 0.4427 - val_accuracy: 0.8445\n",
      "Epoch 18/40\n",
      "1500/1500 [==============================] - 3s 2ms/step - loss: 0.4477 - accuracy: 0.8453 - val_loss: 0.4388 - val_accuracy: 0.8462\n",
      "Epoch 19/40\n",
      "1500/1500 [==============================] - 3s 2ms/step - loss: 0.4396 - accuracy: 0.8486 - val_loss: 0.4366 - val_accuracy: 0.8456\n",
      "Epoch 20/40\n",
      "1500/1500 [==============================] - 3s 2ms/step - loss: 0.4460 - accuracy: 0.8430 - val_loss: 0.4315 - val_accuracy: 0.8481\n",
      "Epoch 21/40\n",
      "1500/1500 [==============================] - 3s 2ms/step - loss: 0.4403 - accuracy: 0.8442 - val_loss: 0.4285 - val_accuracy: 0.8500\n",
      "Epoch 22/40\n",
      "1500/1500 [==============================] - 3s 2ms/step - loss: 0.4396 - accuracy: 0.8450 - val_loss: 0.4277 - val_accuracy: 0.8477\n",
      "Epoch 23/40\n",
      "1500/1500 [==============================] - 3s 2ms/step - loss: 0.4374 - accuracy: 0.8453 - val_loss: 0.4217 - val_accuracy: 0.8513\n",
      "Epoch 24/40\n",
      "1500/1500 [==============================] - 3s 2ms/step - loss: 0.4315 - accuracy: 0.8490 - val_loss: 0.4195 - val_accuracy: 0.8519\n",
      "Epoch 25/40\n",
      "1500/1500 [==============================] - 3s 2ms/step - loss: 0.4252 - accuracy: 0.8518 - val_loss: 0.4174 - val_accuracy: 0.8524\n",
      "Epoch 26/40\n",
      "1500/1500 [==============================] - 3s 2ms/step - loss: 0.4236 - accuracy: 0.8517 - val_loss: 0.4146 - val_accuracy: 0.8521\n",
      "Epoch 27/40\n",
      "1500/1500 [==============================] - 3s 2ms/step - loss: 0.4201 - accuracy: 0.8511 - val_loss: 0.4113 - val_accuracy: 0.8549\n",
      "Epoch 28/40\n",
      "1500/1500 [==============================] - 3s 2ms/step - loss: 0.4100 - accuracy: 0.8559 - val_loss: 0.4093 - val_accuracy: 0.8553\n",
      "Epoch 29/40\n",
      "1500/1500 [==============================] - 3s 2ms/step - loss: 0.4048 - accuracy: 0.8586 - val_loss: 0.4070 - val_accuracy: 0.8562\n",
      "Epoch 30/40\n",
      "1500/1500 [==============================] - 3s 2ms/step - loss: 0.4102 - accuracy: 0.8563 - val_loss: 0.4058 - val_accuracy: 0.8572\n",
      "Epoch 31/40\n",
      "1500/1500 [==============================] - 3s 2ms/step - loss: 0.4075 - accuracy: 0.8564 - val_loss: 0.4027 - val_accuracy: 0.8586\n",
      "Epoch 32/40\n",
      "1500/1500 [==============================] - 3s 2ms/step - loss: 0.4024 - accuracy: 0.8574 - val_loss: 0.4011 - val_accuracy: 0.8593\n",
      "Epoch 33/40\n",
      "1500/1500 [==============================] - 3s 2ms/step - loss: 0.3982 - accuracy: 0.8589 - val_loss: 0.3996 - val_accuracy: 0.8586\n",
      "Epoch 34/40\n",
      "1500/1500 [==============================] - 3s 2ms/step - loss: 0.4066 - accuracy: 0.8565 - val_loss: 0.3973 - val_accuracy: 0.8597\n",
      "Epoch 35/40\n",
      "1500/1500 [==============================] - 3s 2ms/step - loss: 0.4026 - accuracy: 0.8563 - val_loss: 0.3964 - val_accuracy: 0.8608\n",
      "Epoch 36/40\n",
      "1500/1500 [==============================] - 3s 2ms/step - loss: 0.3982 - accuracy: 0.8582 - val_loss: 0.3950 - val_accuracy: 0.8614\n",
      "Epoch 37/40\n",
      "1500/1500 [==============================] - 3s 2ms/step - loss: 0.4017 - accuracy: 0.8567 - val_loss: 0.3925 - val_accuracy: 0.8612\n",
      "Epoch 38/40\n",
      "1500/1500 [==============================] - 3s 2ms/step - loss: 0.3984 - accuracy: 0.8606 - val_loss: 0.3916 - val_accuracy: 0.8633\n",
      "Epoch 39/40\n",
      "1500/1500 [==============================] - 3s 2ms/step - loss: 0.3918 - accuracy: 0.8593 - val_loss: 0.3909 - val_accuracy: 0.8616\n",
      "Epoch 40/40\n",
      "1500/1500 [==============================] - 3s 2ms/step - loss: 0.3909 - accuracy: 0.8607 - val_loss: 0.3907 - val_accuracy: 0.8638\n"
     ]
    }
   ],
   "source": [
    "history = model.fit(x_train, y_train_encoded, epochs=40, \n",
    "                    validation_data=(x_val, y_val_encoded))"
   ]
  },
  {
   "cell_type": "code",
   "execution_count": 36,
   "metadata": {},
   "outputs": [
    {
     "name": "stdout",
     "output_type": "stream",
     "text": [
      "dict_keys(['loss', 'accuracy', 'val_loss', 'val_accuracy'])\n"
     ]
    }
   ],
   "source": [
    "print(history.history.keys())"
   ]
  },
  {
   "cell_type": "code",
   "execution_count": 37,
   "metadata": {},
   "outputs": [
    {
     "data": {
      "image/png": "[encoded data removed]",
      "text/plain": [
       "<Figure size 432x288 with 1 Axes>"
      ]
     },
     "metadata": {
      "needs_background": "light"
     },
     "output_type": "display_data"
    }
   ],
   "source": [
    "plt.plot(history.history['loss'])\n",
    "plt.plot(history.history['val_loss'])\n",
    "plt.ylabel('loss')\n",
    "plt.xlabel('epoch')\n",
    "plt.legend(['train_loss', 'val_loss'])\n",
    "plt.show()"
   ]
  },
  {
   "cell_type": "code",
   "execution_count": 38,
   "metadata": {},
   "outputs": [
    {
     "data": {
      "image/png": "[encoded data removed]",
      "text/plain": [
       "<Figure size 432x288 with 1 Axes>"
      ]
     },
     "metadata": {
      "needs_background": "light"
     },
     "output_type": "display_data"
    }
   ],
   "source": [
    "plt.plot(history.history['accuracy'])\n",
    "plt.plot(history.history['val_accuracy'])\n",
    "plt.ylabel('accuracy')\n",
    "plt.xlabel('epoch')\n",
    "plt.legend(['train_accuracy', 'val_accuracy'])\n",
    "plt.show()"
   ]
  },
  {
   "cell_type": "code",
   "execution_count": 39,
   "metadata": {},
   "outputs": [],
   "source": [
    "loss, accuracy = model.evaluate(x_val, y_val_encoded, verbose=0)"
   ]
  },
  {
   "cell_type": "code",
   "execution_count": 40,
   "metadata": {},
   "outputs": [
    {
     "name": "stdout",
     "output_type": "stream",
     "text": [
      "0.8638333082199097\n"
     ]
    }
   ],
   "source": [
    "print(accuracy)"
   ]
  },
  {
   "cell_type": "code",
   "execution_count": 41,
   "metadata": {},
   "outputs": [
    {
     "name": "stdout",
     "output_type": "stream",
     "text": [
      "Model: \"sequential\"\n",
      "_________________________________________________________________\n",
      "Layer (type)                 Output Shape              Param #   \n",
      "=================================================================\n",
      "dense (Dense)                (None, 100)               78500     \n",
      "_________________________________________________________________\n",
      "dense_1 (Dense)              (None, 10)                1010      \n",
      "=================================================================\n",
      "Total params: 79,510\n",
      "Trainable params: 79,510\n",
      "Non-trainable params: 0\n",
      "_________________________________________________________________\n"
     ]
    }
   ],
   "source": [
    "model.summary()    # (256,784)(784,100)+(100,)\n",
    "                   # (256,100)(100,10)+(10,)"
   ]
  },
  {
   "cell_type": "code",
   "execution_count": null,
   "metadata": {},
   "outputs": [],
   "source": []
  }
 ],
 "metadata": {
  "kernelspec": {
   "display_name": "Python 3",
   "language": "python",
   "name": "python3"
  },
  "language_info": {
   "codemirror_mode": {
    "name": "ipython",
    "version": 3
   },
   "file_extension": ".py",
   "mimetype": "text/x-python",
   "name": "python",
   "nbconvert_exporter": "python",
   "pygments_lexer": "ipython3",
   "version": "3.8.8"
  }
 },
 "nbformat": 4,
 "nbformat_minor": 4
}
