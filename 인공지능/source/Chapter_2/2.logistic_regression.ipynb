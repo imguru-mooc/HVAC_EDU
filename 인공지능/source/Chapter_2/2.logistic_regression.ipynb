{
 "cells": [
  {
   "cell_type": "code",
   "execution_count": 1,
   "metadata": {},
   "outputs": [
    {
     "name": "stdout",
     "output_type": "stream",
     "text": [
      "Epoch 1/200\n"
     ]
    },
    {
     "name": "stderr",
     "output_type": "stream",
     "text": [
      "C:\\Users\\jikim\\anaconda3\\lib\\site-packages\\keras\\optimizer_v2\\rmsprop.py:130: UserWarning: The `lr` argument is deprecated, use `learning_rate` instead.\n",
      "  super(RMSprop, self).__init__(name, **kwargs)\n"
     ]
    },
    {
     "name": "stdout",
     "output_type": "stream",
     "text": [
      "8/8 [==============================] - 1s 3ms/step - loss: 3.7656 - accuracy: 0.5000\n",
      "Epoch 2/200\n",
      "8/8 [==============================] - 0s 2ms/step - loss: 3.5333 - accuracy: 0.3750\n",
      "Epoch 3/200\n",
      "8/8 [==============================] - 0s 9ms/step - loss: 3.3557 - accuracy: 0.3750\n",
      "Epoch 4/200\n",
      "8/8 [==============================] - 0s 2ms/step - loss: 3.1915 - accuracy: 0.3750\n",
      "Epoch 5/200\n",
      "8/8 [==============================] - 0s 2ms/step - loss: 3.0331 - accuracy: 0.3750\n",
      "Epoch 6/200\n",
      "8/8 [==============================] - 0s 2ms/step - loss: 2.8785 - accuracy: 0.3750\n",
      "Epoch 7/200\n",
      "8/8 [==============================] - 0s 2ms/step - loss: 2.7266 - accuracy: 0.3750\n",
      "Epoch 8/200\n",
      "8/8 [==============================] - 0s 2ms/step - loss: 2.5775 - accuracy: 0.3750\n",
      "Epoch 9/200\n",
      "8/8 [==============================] - 0s 2ms/step - loss: 2.4312 - accuracy: 0.3750\n",
      "Epoch 10/200\n",
      "8/8 [==============================] - 0s 2ms/step - loss: 2.2880 - accuracy: 0.3750\n",
      "Epoch 11/200\n",
      "8/8 [==============================] - 0s 2ms/step - loss: 2.1483 - accuracy: 0.3750\n",
      "Epoch 12/200\n",
      "8/8 [==============================] - 0s 2ms/step - loss: 2.0125 - accuracy: 0.3750\n",
      "Epoch 13/200\n",
      "8/8 [==============================] - 0s 2ms/step - loss: 1.8811 - accuracy: 0.3750\n",
      "Epoch 14/200\n",
      "8/8 [==============================] - 0s 3ms/step - loss: 1.7548 - accuracy: 0.3750\n",
      "Epoch 15/200\n",
      "8/8 [==============================] - 0s 2ms/step - loss: 1.6341 - accuracy: 0.3750\n",
      "Epoch 16/200\n",
      "8/8 [==============================] - 0s 2ms/step - loss: 1.5197 - accuracy: 0.2500\n",
      "Epoch 17/200\n",
      "8/8 [==============================] - 0s 2ms/step - loss: 1.4123 - accuracy: 0.2500\n",
      "Epoch 18/200\n",
      "8/8 [==============================] - 0s 2ms/step - loss: 1.3127 - accuracy: 0.2500\n",
      "Epoch 19/200\n",
      "8/8 [==============================] - 0s 2ms/step - loss: 1.2215 - accuracy: 0.2500\n",
      "Epoch 20/200\n",
      "8/8 [==============================] - 0s 2ms/step - loss: 1.1392 - accuracy: 0.2500\n",
      "Epoch 21/200\n",
      "8/8 [==============================] - 0s 2ms/step - loss: 1.0660 - accuracy: 0.1250\n",
      "Epoch 22/200\n",
      "8/8 [==============================] - 0s 3ms/step - loss: 1.0022 - accuracy: 0.1250\n",
      "Epoch 23/200\n",
      "8/8 [==============================] - 0s 2ms/step - loss: 0.9473 - accuracy: 0.1250\n",
      "Epoch 24/200\n",
      "8/8 [==============================] - 0s 2ms/step - loss: 0.9009 - accuracy: 0.0000e+00\n",
      "Epoch 25/200\n",
      "8/8 [==============================] - 0s 2ms/step - loss: 0.8621 - accuracy: 0.0000e+00\n",
      "Epoch 26/200\n",
      "8/8 [==============================] - 0s 2ms/step - loss: 0.8301 - accuracy: 0.1250\n",
      "Epoch 27/200\n",
      "8/8 [==============================] - 0s 2ms/step - loss: 0.8038 - accuracy: 0.5000\n",
      "Epoch 28/200\n",
      "8/8 [==============================] - 0s 2ms/step - loss: 0.7821 - accuracy: 0.5000\n",
      "Epoch 29/200\n",
      "8/8 [==============================] - 0s 2ms/step - loss: 0.7642 - accuracy: 0.5000\n",
      "Epoch 30/200\n",
      "8/8 [==============================] - 0s 2ms/step - loss: 0.7491 - accuracy: 0.5000\n",
      "Epoch 31/200\n",
      "8/8 [==============================] - 0s 2ms/step - loss: 0.7362 - accuracy: 0.5000\n",
      "Epoch 32/200\n",
      "8/8 [==============================] - 0s 2ms/step - loss: 0.7249 - accuracy: 0.5000\n",
      "Epoch 33/200\n",
      "8/8 [==============================] - 0s 10ms/step - loss: 0.7148 - accuracy: 0.5000\n",
      "Epoch 34/200\n",
      "8/8 [==============================] - 0s 2ms/step - loss: 0.7055 - accuracy: 0.5000\n",
      "Epoch 35/200\n",
      "8/8 [==============================] - 0s 2ms/step - loss: 0.6968 - accuracy: 0.5000\n",
      "Epoch 36/200\n",
      "8/8 [==============================] - 0s 9ms/step - loss: 0.6886 - accuracy: 0.5000\n",
      "Epoch 37/200\n",
      "8/8 [==============================] - 0s 2ms/step - loss: 0.6806 - accuracy: 0.5000\n",
      "Epoch 38/200\n",
      "8/8 [==============================] - 0s 2ms/step - loss: 0.6729 - accuracy: 0.5000\n",
      "Epoch 39/200\n",
      "8/8 [==============================] - 0s 2ms/step - loss: 0.6653 - accuracy: 0.5000\n",
      "Epoch 40/200\n",
      "8/8 [==============================] - 0s 2ms/step - loss: 0.6579 - accuracy: 0.5000\n",
      "Epoch 41/200\n",
      "8/8 [==============================] - 0s 2ms/step - loss: 0.6506 - accuracy: 0.5000\n",
      "Epoch 42/200\n",
      "8/8 [==============================] - 0s 2ms/step - loss: 0.6434 - accuracy: 0.5000\n",
      "Epoch 43/200\n",
      "8/8 [==============================] - 0s 2ms/step - loss: 0.6363 - accuracy: 0.5000\n",
      "Epoch 44/200\n",
      "8/8 [==============================] - 0s 2ms/step - loss: 0.6292 - accuracy: 0.5000\n",
      "Epoch 45/200\n",
      "8/8 [==============================] - 0s 2ms/step - loss: 0.6222 - accuracy: 0.5000\n",
      "Epoch 46/200\n",
      "8/8 [==============================] - 0s 2ms/step - loss: 0.6153 - accuracy: 0.5000\n",
      "Epoch 47/200\n",
      "8/8 [==============================] - 0s 2ms/step - loss: 0.6085 - accuracy: 0.5000\n",
      "Epoch 48/200\n",
      "8/8 [==============================] - 0s 2ms/step - loss: 0.6018 - accuracy: 0.5000\n",
      "Epoch 49/200\n",
      "8/8 [==============================] - 0s 2ms/step - loss: 0.5952 - accuracy: 0.5000\n",
      "Epoch 50/200\n",
      "8/8 [==============================] - 0s 2ms/step - loss: 0.5886 - accuracy: 0.5000\n",
      "Epoch 51/200\n",
      "8/8 [==============================] - 0s 2ms/step - loss: 0.5821 - accuracy: 0.5000\n",
      "Epoch 52/200\n",
      "8/8 [==============================] - 0s 2ms/step - loss: 0.5757 - accuracy: 0.5000\n",
      "Epoch 53/200\n",
      "8/8 [==============================] - 0s 2ms/step - loss: 0.5694 - accuracy: 0.6250\n",
      "Epoch 54/200\n",
      "8/8 [==============================] - 0s 2ms/step - loss: 0.5631 - accuracy: 0.6250\n",
      "Epoch 55/200\n",
      "8/8 [==============================] - 0s 2ms/step - loss: 0.5570 - accuracy: 0.6250\n",
      "Epoch 56/200\n",
      "8/8 [==============================] - 0s 2ms/step - loss: 0.5509 - accuracy: 0.6250\n",
      "Epoch 57/200\n",
      "8/8 [==============================] - 0s 2ms/step - loss: 0.5449 - accuracy: 0.6250\n",
      "Epoch 58/200\n",
      "8/8 [==============================] - 0s 2ms/step - loss: 0.5390 - accuracy: 0.6250\n",
      "Epoch 59/200\n",
      "8/8 [==============================] - 0s 2ms/step - loss: 0.5332 - accuracy: 0.6250\n",
      "Epoch 60/200\n",
      "8/8 [==============================] - 0s 2ms/step - loss: 0.5275 - accuracy: 0.6250\n",
      "Epoch 61/200\n",
      "8/8 [==============================] - 0s 2ms/step - loss: 0.5218 - accuracy: 0.6250\n",
      "Epoch 62/200\n",
      "8/8 [==============================] - 0s 2ms/step - loss: 0.5163 - accuracy: 0.6250\n",
      "Epoch 63/200\n",
      "8/8 [==============================] - 0s 2ms/step - loss: 0.5108 - accuracy: 0.7500\n",
      "Epoch 64/200\n",
      "8/8 [==============================] - 0s 2ms/step - loss: 0.5054 - accuracy: 0.7500\n",
      "Epoch 65/200\n",
      "8/8 [==============================] - 0s 2ms/step - loss: 0.5000 - accuracy: 0.7500\n",
      "Epoch 66/200\n",
      "8/8 [==============================] - 0s 2ms/step - loss: 0.4948 - accuracy: 0.7500\n",
      "Epoch 67/200\n",
      "8/8 [==============================] - 0s 2ms/step - loss: 0.4896 - accuracy: 0.7500\n",
      "Epoch 68/200\n",
      "8/8 [==============================] - 0s 2ms/step - loss: 0.4845 - accuracy: 0.7500\n",
      "Epoch 69/200\n",
      "8/8 [==============================] - 0s 2ms/step - loss: 0.4795 - accuracy: 0.7500\n",
      "Epoch 70/200\n",
      "8/8 [==============================] - 0s 2ms/step - loss: 0.4746 - accuracy: 0.7500\n",
      "Epoch 71/200\n",
      "8/8 [==============================] - 0s 2ms/step - loss: 0.4697 - accuracy: 0.7500\n",
      "Epoch 72/200\n",
      "8/8 [==============================] - 0s 2ms/step - loss: 0.4649 - accuracy: 0.7500\n",
      "Epoch 73/200\n",
      "8/8 [==============================] - 0s 2ms/step - loss: 0.4602 - accuracy: 0.7500\n",
      "Epoch 74/200\n",
      "8/8 [==============================] - 0s 2ms/step - loss: 0.4556 - accuracy: 0.7500\n",
      "Epoch 75/200\n",
      "8/8 [==============================] - 0s 2ms/step - loss: 0.4510 - accuracy: 0.7500\n",
      "Epoch 76/200\n",
      "8/8 [==============================] - 0s 2ms/step - loss: 0.4465 - accuracy: 0.7500\n",
      "Epoch 77/200\n",
      "8/8 [==============================] - 0s 2ms/step - loss: 0.4421 - accuracy: 0.7500\n",
      "Epoch 78/200\n",
      "8/8 [==============================] - 0s 2ms/step - loss: 0.4378 - accuracy: 0.7500\n",
      "Epoch 79/200\n",
      "8/8 [==============================] - 0s 2ms/step - loss: 0.4335 - accuracy: 0.7500\n",
      "Epoch 80/200\n",
      "8/8 [==============================] - 0s 2ms/step - loss: 0.4293 - accuracy: 0.7500\n",
      "Epoch 81/200\n",
      "8/8 [==============================] - 0s 2ms/step - loss: 0.4251 - accuracy: 0.7500\n",
      "Epoch 82/200\n",
      "8/8 [==============================] - 0s 2ms/step - loss: 0.4211 - accuracy: 0.8750\n",
      "Epoch 83/200\n",
      "8/8 [==============================] - 0s 2ms/step - loss: 0.4170 - accuracy: 0.8750\n",
      "Epoch 84/200\n"
     ]
    },
    {
     "name": "stdout",
     "output_type": "stream",
     "text": [
      "8/8 [==============================] - 0s 2ms/step - loss: 0.4131 - accuracy: 0.8750\n",
      "Epoch 85/200\n",
      "8/8 [==============================] - 0s 2ms/step - loss: 0.4092 - accuracy: 0.8750\n",
      "Epoch 86/200\n",
      "8/8 [==============================] - 0s 2ms/step - loss: 0.4054 - accuracy: 0.8750\n",
      "Epoch 87/200\n",
      "8/8 [==============================] - 0s 2ms/step - loss: 0.4017 - accuracy: 0.8750\n",
      "Epoch 88/200\n",
      "8/8 [==============================] - 0s 2ms/step - loss: 0.3980 - accuracy: 0.8750\n",
      "Epoch 89/200\n",
      "8/8 [==============================] - 0s 2ms/step - loss: 0.3943 - accuracy: 0.8750\n",
      "Epoch 90/200\n",
      "8/8 [==============================] - 0s 2ms/step - loss: 0.3908 - accuracy: 0.8750\n",
      "Epoch 91/200\n",
      "8/8 [==============================] - 0s 2ms/step - loss: 0.3872 - accuracy: 0.8750\n",
      "Epoch 92/200\n",
      "8/8 [==============================] - 0s 9ms/step - loss: 0.3838 - accuracy: 0.8750\n",
      "Epoch 93/200\n",
      "8/8 [==============================] - 0s 2ms/step - loss: 0.3804 - accuracy: 0.8750\n",
      "Epoch 94/200\n",
      "8/8 [==============================] - 0s 2ms/step - loss: 0.3770 - accuracy: 0.8750\n",
      "Epoch 95/200\n",
      "8/8 [==============================] - 0s 2ms/step - loss: 0.3738 - accuracy: 0.8750\n",
      "Epoch 96/200\n",
      "8/8 [==============================] - 0s 2ms/step - loss: 0.3705 - accuracy: 0.8750\n",
      "Epoch 97/200\n",
      "8/8 [==============================] - 0s 2ms/step - loss: 0.3673 - accuracy: 0.8750\n",
      "Epoch 98/200\n",
      "8/8 [==============================] - 0s 2ms/step - loss: 0.3642 - accuracy: 0.8750\n",
      "Epoch 99/200\n",
      "8/8 [==============================] - 0s 2ms/step - loss: 0.3611 - accuracy: 0.8750\n",
      "Epoch 100/200\n",
      "8/8 [==============================] - 0s 2ms/step - loss: 0.3581 - accuracy: 0.8750\n",
      "Epoch 101/200\n",
      "8/8 [==============================] - 0s 2ms/step - loss: 0.3551 - accuracy: 0.8750\n",
      "Epoch 102/200\n",
      "8/8 [==============================] - 0s 2ms/step - loss: 0.3522 - accuracy: 0.8750\n",
      "Epoch 103/200\n",
      "8/8 [==============================] - 0s 2ms/step - loss: 0.3493 - accuracy: 0.8750\n",
      "Epoch 104/200\n",
      "8/8 [==============================] - 0s 2ms/step - loss: 0.3465 - accuracy: 0.8750\n",
      "Epoch 105/200\n",
      "8/8 [==============================] - 0s 2ms/step - loss: 0.3437 - accuracy: 0.8750\n",
      "Epoch 106/200\n",
      "8/8 [==============================] - 0s 2ms/step - loss: 0.3409 - accuracy: 0.8750\n",
      "Epoch 107/200\n",
      "8/8 [==============================] - 0s 2ms/step - loss: 0.3382 - accuracy: 0.8750\n",
      "Epoch 108/200\n",
      "8/8 [==============================] - 0s 2ms/step - loss: 0.3356 - accuracy: 0.8750\n",
      "Epoch 109/200\n",
      "8/8 [==============================] - 0s 2ms/step - loss: 0.3330 - accuracy: 0.8750\n",
      "Epoch 110/200\n",
      "8/8 [==============================] - 0s 2ms/step - loss: 0.3304 - accuracy: 0.8750\n",
      "Epoch 111/200\n",
      "8/8 [==============================] - 0s 2ms/step - loss: 0.3278 - accuracy: 0.8750\n",
      "Epoch 112/200\n",
      "8/8 [==============================] - 0s 2ms/step - loss: 0.3254 - accuracy: 0.8750\n",
      "Epoch 113/200\n",
      "8/8 [==============================] - 0s 2ms/step - loss: 0.3229 - accuracy: 0.8750\n",
      "Epoch 114/200\n",
      "8/8 [==============================] - 0s 2ms/step - loss: 0.3205 - accuracy: 0.8750\n",
      "Epoch 115/200\n",
      "8/8 [==============================] - 0s 2ms/step - loss: 0.3181 - accuracy: 0.8750\n",
      "Epoch 116/200\n",
      "8/8 [==============================] - 0s 2ms/step - loss: 0.3158 - accuracy: 0.8750\n",
      "Epoch 117/200\n",
      "8/8 [==============================] - 0s 2ms/step - loss: 0.3135 - accuracy: 0.8750\n",
      "Epoch 118/200\n",
      "8/8 [==============================] - 0s 2ms/step - loss: 0.3112 - accuracy: 0.8750\n",
      "Epoch 119/200\n",
      "8/8 [==============================] - 0s 2ms/step - loss: 0.3090 - accuracy: 0.8750\n",
      "Epoch 120/200\n",
      "8/8 [==============================] - 0s 2ms/step - loss: 0.3068 - accuracy: 0.8750\n",
      "Epoch 121/200\n",
      "8/8 [==============================] - 0s 2ms/step - loss: 0.3046 - accuracy: 0.8750\n",
      "Epoch 122/200\n",
      "8/8 [==============================] - 0s 2ms/step - loss: 0.3025 - accuracy: 0.8750\n",
      "Epoch 123/200\n",
      "8/8 [==============================] - 0s 2ms/step - loss: 0.3004 - accuracy: 0.8750\n",
      "Epoch 124/200\n",
      "8/8 [==============================] - 0s 2ms/step - loss: 0.2983 - accuracy: 0.8750\n",
      "Epoch 125/200\n",
      "8/8 [==============================] - 0s 2ms/step - loss: 0.2963 - accuracy: 0.8750\n",
      "Epoch 126/200\n",
      "8/8 [==============================] - 0s 2ms/step - loss: 0.2943 - accuracy: 0.8750\n",
      "Epoch 127/200\n",
      "8/8 [==============================] - 0s 2ms/step - loss: 0.2923 - accuracy: 0.8750\n",
      "Epoch 128/200\n",
      "8/8 [==============================] - 0s 2ms/step - loss: 0.2904 - accuracy: 0.8750\n",
      "Epoch 129/200\n",
      "8/8 [==============================] - 0s 2ms/step - loss: 0.2885 - accuracy: 0.8750\n",
      "Epoch 130/200\n",
      "8/8 [==============================] - 0s 2ms/step - loss: 0.2866 - accuracy: 0.8750\n",
      "Epoch 131/200\n",
      "8/8 [==============================] - 0s 2ms/step - loss: 0.2847 - accuracy: 0.8750\n",
      "Epoch 132/200\n",
      "8/8 [==============================] - 0s 2ms/step - loss: 0.2829 - accuracy: 0.8750\n",
      "Epoch 133/200\n",
      "8/8 [==============================] - 0s 2ms/step - loss: 0.2811 - accuracy: 0.8750\n",
      "Epoch 134/200\n",
      "8/8 [==============================] - 0s 2ms/step - loss: 0.2793 - accuracy: 0.8750\n",
      "Epoch 135/200\n",
      "8/8 [==============================] - 0s 2ms/step - loss: 0.2776 - accuracy: 0.8750\n",
      "Epoch 136/200\n",
      "8/8 [==============================] - 0s 2ms/step - loss: 0.2759 - accuracy: 0.8750\n",
      "Epoch 137/200\n",
      "8/8 [==============================] - 0s 2ms/step - loss: 0.2742 - accuracy: 0.8750\n",
      "Epoch 138/200\n",
      "8/8 [==============================] - 0s 2ms/step - loss: 0.2725 - accuracy: 0.8750\n",
      "Epoch 139/200\n",
      "8/8 [==============================] - 0s 2ms/step - loss: 0.2708 - accuracy: 0.8750\n",
      "Epoch 140/200\n",
      "8/8 [==============================] - 0s 2ms/step - loss: 0.2692 - accuracy: 0.8750\n",
      "Epoch 141/200\n",
      "8/8 [==============================] - 0s 2ms/step - loss: 0.2676 - accuracy: 0.8750\n",
      "Epoch 142/200\n",
      "8/8 [==============================] - 0s 2ms/step - loss: 0.2660 - accuracy: 0.8750\n",
      "Epoch 143/200\n",
      "8/8 [==============================] - 0s 2ms/step - loss: 0.2645 - accuracy: 0.8750\n",
      "Epoch 144/200\n",
      "8/8 [==============================] - 0s 2ms/step - loss: 0.2629 - accuracy: 0.8750\n",
      "Epoch 145/200\n",
      "8/8 [==============================] - 0s 2ms/step - loss: 0.2614 - accuracy: 1.0000\n",
      "Epoch 146/200\n",
      "8/8 [==============================] - 0s 2ms/step - loss: 0.2599 - accuracy: 1.0000\n",
      "Epoch 147/200\n",
      "8/8 [==============================] - 0s 10ms/step - loss: 0.2585 - accuracy: 1.0000\n",
      "Epoch 148/200\n",
      "8/8 [==============================] - 0s 2ms/step - loss: 0.2570 - accuracy: 1.0000\n",
      "Epoch 149/200\n",
      "8/8 [==============================] - 0s 2ms/step - loss: 0.2556 - accuracy: 1.0000\n",
      "Epoch 150/200\n",
      "8/8 [==============================] - 0s 2ms/step - loss: 0.2541 - accuracy: 1.0000\n",
      "Epoch 151/200\n",
      "8/8 [==============================] - 0s 2ms/step - loss: 0.2528 - accuracy: 1.0000\n",
      "Epoch 152/200\n",
      "8/8 [==============================] - 0s 2ms/step - loss: 0.2514 - accuracy: 1.0000\n",
      "Epoch 153/200\n",
      "8/8 [==============================] - 0s 2ms/step - loss: 0.2500 - accuracy: 1.0000\n",
      "Epoch 154/200\n",
      "8/8 [==============================] - 0s 2ms/step - loss: 0.2487 - accuracy: 1.0000\n",
      "Epoch 155/200\n",
      "8/8 [==============================] - 0s 2ms/step - loss: 0.2474 - accuracy: 1.0000\n",
      "Epoch 156/200\n",
      "8/8 [==============================] - 0s 2ms/step - loss: 0.2460 - accuracy: 1.0000\n",
      "Epoch 157/200\n",
      "8/8 [==============================] - 0s 2ms/step - loss: 0.2448 - accuracy: 1.0000\n",
      "Epoch 158/200\n",
      "8/8 [==============================] - 0s 2ms/step - loss: 0.2435 - accuracy: 1.0000\n",
      "Epoch 159/200\n",
      "8/8 [==============================] - 0s 2ms/step - loss: 0.2422 - accuracy: 1.0000\n",
      "Epoch 160/200\n",
      "8/8 [==============================] - 0s 2ms/step - loss: 0.2410 - accuracy: 1.0000\n",
      "Epoch 161/200\n",
      "8/8 [==============================] - 0s 2ms/step - loss: 0.2398 - accuracy: 1.0000\n",
      "Epoch 162/200\n",
      "8/8 [==============================] - 0s 2ms/step - loss: 0.2386 - accuracy: 1.0000\n",
      "Epoch 163/200\n",
      "8/8 [==============================] - 0s 2ms/step - loss: 0.2374 - accuracy: 1.0000\n",
      "Epoch 164/200\n",
      "8/8 [==============================] - 0s 2ms/step - loss: 0.2362 - accuracy: 1.0000\n",
      "Epoch 165/200\n",
      "8/8 [==============================] - 0s 2ms/step - loss: 0.2350 - accuracy: 1.0000\n",
      "Epoch 166/200\n",
      "8/8 [==============================] - 0s 2ms/step - loss: 0.2339 - accuracy: 1.0000\n",
      "Epoch 167/200\n"
     ]
    },
    {
     "name": "stdout",
     "output_type": "stream",
     "text": [
      "8/8 [==============================] - 0s 2ms/step - loss: 0.2327 - accuracy: 1.0000\n",
      "Epoch 168/200\n",
      "8/8 [==============================] - 0s 2ms/step - loss: 0.2316 - accuracy: 1.0000\n",
      "Epoch 169/200\n",
      "8/8 [==============================] - 0s 2ms/step - loss: 0.2305 - accuracy: 1.0000\n",
      "Epoch 170/200\n",
      "8/8 [==============================] - 0s 2ms/step - loss: 0.2294 - accuracy: 1.0000\n",
      "Epoch 171/200\n",
      "8/8 [==============================] - 0s 2ms/step - loss: 0.2283 - accuracy: 1.0000\n",
      "Epoch 172/200\n",
      "8/8 [==============================] - 0s 2ms/step - loss: 0.2273 - accuracy: 1.0000\n",
      "Epoch 173/200\n",
      "8/8 [==============================] - 0s 2ms/step - loss: 0.2262 - accuracy: 1.0000\n",
      "Epoch 174/200\n",
      "8/8 [==============================] - 0s 2ms/step - loss: 0.2252 - accuracy: 1.0000\n",
      "Epoch 175/200\n",
      "8/8 [==============================] - 0s 2ms/step - loss: 0.2241 - accuracy: 1.0000\n",
      "Epoch 176/200\n",
      "8/8 [==============================] - 0s 2ms/step - loss: 0.2231 - accuracy: 1.0000\n",
      "Epoch 177/200\n",
      "8/8 [==============================] - 0s 2ms/step - loss: 0.2221 - accuracy: 1.0000\n",
      "Epoch 178/200\n",
      "8/8 [==============================] - 0s 2ms/step - loss: 0.2211 - accuracy: 1.0000\n",
      "Epoch 179/200\n",
      "8/8 [==============================] - 0s 2ms/step - loss: 0.2201 - accuracy: 1.0000\n",
      "Epoch 180/200\n",
      "8/8 [==============================] - 0s 2ms/step - loss: 0.2192 - accuracy: 1.0000\n",
      "Epoch 181/200\n",
      "8/8 [==============================] - 0s 2ms/step - loss: 0.2182 - accuracy: 1.0000\n",
      "Epoch 182/200\n",
      "8/8 [==============================] - 0s 2ms/step - loss: 0.2173 - accuracy: 1.0000\n",
      "Epoch 183/200\n",
      "8/8 [==============================] - 0s 2ms/step - loss: 0.2163 - accuracy: 1.0000\n",
      "Epoch 184/200\n",
      "8/8 [==============================] - 0s 2ms/step - loss: 0.2154 - accuracy: 1.0000\n",
      "Epoch 185/200\n",
      "8/8 [==============================] - 0s 2ms/step - loss: 0.2145 - accuracy: 1.0000\n",
      "Epoch 186/200\n",
      "8/8 [==============================] - 0s 2ms/step - loss: 0.2136 - accuracy: 1.0000\n",
      "Epoch 187/200\n",
      "8/8 [==============================] - 0s 2ms/step - loss: 0.2127 - accuracy: 1.0000\n",
      "Epoch 188/200\n",
      "8/8 [==============================] - 0s 2ms/step - loss: 0.2118 - accuracy: 1.0000\n",
      "Epoch 189/200\n",
      "8/8 [==============================] - 0s 2ms/step - loss: 0.2109 - accuracy: 1.0000\n",
      "Epoch 190/200\n",
      "8/8 [==============================] - 0s 2ms/step - loss: 0.2100 - accuracy: 1.0000\n",
      "Epoch 191/200\n",
      "8/8 [==============================] - 0s 2ms/step - loss: 0.2092 - accuracy: 1.0000\n",
      "Epoch 192/200\n",
      "8/8 [==============================] - 0s 2ms/step - loss: 0.2083 - accuracy: 1.0000\n",
      "Epoch 193/200\n",
      "8/8 [==============================] - 0s 2ms/step - loss: 0.2075 - accuracy: 1.0000\n",
      "Epoch 194/200\n",
      "8/8 [==============================] - 0s 2ms/step - loss: 0.2067 - accuracy: 1.0000\n",
      "Epoch 195/200\n",
      "8/8 [==============================] - 0s 2ms/step - loss: 0.2058 - accuracy: 1.0000\n",
      "Epoch 196/200\n",
      "8/8 [==============================] - 0s 2ms/step - loss: 0.2050 - accuracy: 1.0000\n",
      "Epoch 197/200\n",
      "8/8 [==============================] - 0s 2ms/step - loss: 0.2042 - accuracy: 1.0000\n",
      "Epoch 198/200\n",
      "8/8 [==============================] - 0s 2ms/step - loss: 0.2034 - accuracy: 1.0000\n",
      "Epoch 199/200\n",
      "8/8 [==============================] - 0s 2ms/step - loss: 0.2026 - accuracy: 1.0000\n",
      "Epoch 200/200\n",
      "8/8 [==============================] - 0s 2ms/step - loss: 0.2018 - accuracy: 1.0000\n",
      "[0 1 2 3 4 5 6 7]\n",
      "[[0.03651184]\n",
      " [0.09635992]\n",
      " [0.2308074 ]\n",
      " [0.45780683]\n",
      " [0.70378935]\n",
      " [0.8698906 ]\n",
      " [0.9495293 ]\n",
      " [0.98146087]]\n"
     ]
    },
    {
     "data": {
      "image/png": "[encoded data removed]",
      "text/plain": [
       "<Figure size 432x288 with 1 Axes>"
      ]
     },
     "metadata": {
      "needs_background": "light"
     },
     "output_type": "display_data"
    }
   ],
   "source": [
    "from tensorflow.keras.models import Sequential # 케라스의 Sequential()을 임포트\n",
    "from tensorflow.keras.layers import Dense      # 케라스의 Dense()를 임포트\n",
    "from tensorflow.keras import optimizers        # 케라스의 옵티마이저를 임포트\n",
    "import numpy as np # Numpy를 임포트\n",
    "import matplotlib.pyplot as plt\n",
    "\n",
    "X=np.array([0,1,2,3,4,5,6,7]) \n",
    "Y=np.array([0,0,0,0,1,1,1,1]) \n",
    "\n",
    "model=Sequential()\n",
    "model.add(Dense(1, input_dim=1, activation='sigmoid'))\n",
    "RMSprop=optimizers.RMSprop(lr=0.01)\n",
    "model.compile(optimizer=RMSprop ,loss='binary_crossentropy',metrics=['accuracy'])\n",
    "model.fit(X,Y, batch_size=1, epochs=200, shuffle=False)\n",
    "\n",
    "plt.plot(X, Y, 'rx')\n",
    "print(X)\n",
    "print(model.predict(X))\n",
    "plt.show()"
   ]
  },
  {
   "cell_type": "code",
   "execution_count": 2,
   "metadata": {},
   "outputs": [
    {
     "name": "stdout",
     "output_type": "stream",
     "text": [
      "1 : 양성종양\n",
      "2 : 양성종양\n",
      "3 : 양성종양\n",
      "4 : 양성종양\n",
      "5 : 양성종양\n",
      "6 : 양성종양\n",
      "7 : 악성종양\n",
      "8 : 악성종양\n",
      "12 : 악성종양\n"
     ]
    },
    {
     "data": {
      "image/png": "[encoded data removed]",
      "text/plain": [
       "<Figure size 432x288 with 1 Axes>"
      ]
     },
     "metadata": {
      "needs_background": "light"
     },
     "output_type": "display_data"
    }
   ],
   "source": [
    "import matplotlib.pyplot as  plt\n",
    "import numpy as np\n",
    "\n",
    "class Neuron:\n",
    "    \n",
    "    def __init__(self):\n",
    "        self.w = 1.0     # 가중치를 초기화합니다\n",
    "        self.b = 1.0     # 절편을 초기화합니다\n",
    "    \n",
    "    def forpass(self, x):\n",
    "        y_hat = x * self.w + self.b       # 직선 방정식을 계산합니다\n",
    "        return y_hat\n",
    "    \n",
    "    def backprop(self, x, err):\n",
    "        w_grad = x * err    # 가중치에 대한 그래디언트를 계산합니다\n",
    "        b_grad = 1 * err    # 절편에 대한 그래디언트를 계산합니다\n",
    "        return w_grad, b_grad\n",
    "\n",
    "    def activation(self, z):\n",
    "        return z\n",
    "    \n",
    "    def fit(self, x, y, epochs=200):\n",
    "        for i in range(epochs):           # 에포크만큼 반복합니다\n",
    "            for x_i, y_i in zip(x, y):    # 모든 샘플에 대해 반복합니다\n",
    "                y_hat = self.forpass(x_i) # 정방향 계산\n",
    "                y_hat = self.activation(y_hat)\n",
    "                err = y_hat - y_i       # 오차 계산\n",
    "                w_grad, b_grad = self.backprop(x_i, err)  # 역방향 계산\n",
    "                self.w -= 0.01*w_grad          # 가중치 업데이트\n",
    "                self.b -= 0.01*b_grad          # 절편 업데이트\n",
    "\n",
    "# x = np.array([1,2,3,4,5,6,7,8])\n",
    "# y = np.array([0,0,0,0,1,1,1,1])\n",
    "x = np.array([1,2,3,4,5,6,7,8,12])\n",
    "y = np.array([0,0,0,0,1,1,1,1,1])                \n",
    "\n",
    "neuron = Neuron()\n",
    "neuron.fit(x, y)\n",
    "\n",
    "for xi, yi in zip(x,y):\n",
    "    plt.plot(xi,yi,\"rx\")\n",
    "\n",
    "y_temp = []\n",
    "for x_i in x:\n",
    "    y_hat = neuron.forpass(x_i)\n",
    "    if( y_hat >= 0.5 ):\n",
    "        print(\"%d : 악성종양\"%x_i)\n",
    "    else:\n",
    "        print(\"%d : 양성종양\"%x_i)\n",
    "    y_temp.append(y_hat)\n",
    "\n",
    "plt.plot(x,y_temp)\n",
    "plt.show()"
   ]
  },
  {
   "cell_type": "code",
   "execution_count": 3,
   "metadata": {},
   "outputs": [
    {
     "data": {
      "image/png": "[encoded data removed]",
      "text/plain": [
       "<Figure size 432x288 with 1 Axes>"
      ]
     },
     "metadata": {
      "needs_background": "light"
     },
     "output_type": "display_data"
    }
   ],
   "source": [
    "import numpy as np\n",
    "import matplotlib.pyplot as plt\n",
    "np.random.seed(42)\n",
    "probs = np.arange(0, 1, 0.01)\n",
    "# print(probs)\n",
    "# print(len(probs))\n",
    "odds = [p/(1-p) for p in probs]\n",
    "plt.plot(probs, odds)\n",
    "plt.xlabel('p')\n",
    "plt.ylabel('p/(1-p)')\n",
    "plt.show()"
   ]
  },
  {
   "cell_type": "code",
   "execution_count": 4,
   "metadata": {},
   "outputs": [
    {
     "data": {
      "image/png": "[encoded data removed]",
      "text/plain": [
       "<Figure size 432x288 with 1 Axes>"
      ]
     },
     "metadata": {
      "needs_background": "light"
     },
     "output_type": "display_data"
    }
   ],
   "source": [
    "probs  = np.arange(0.001, 0.999, 0.001)\n",
    "logit = [np.log(p/(1-p)) for p in probs]\n",
    "plt.plot(probs, logit)\n",
    "plt.xlabel('p')\n",
    "plt.ylabel('log(p/(1-p))')\n",
    "plt.show()"
   ]
  },
  {
   "cell_type": "code",
   "execution_count": 5,
   "metadata": {},
   "outputs": [
    {
     "data": {
      "image/png": "[encoded data removed]",
      "text/plain": [
       "<Figure size 432x288 with 1 Axes>"
      ]
     },
     "metadata": {
      "needs_background": "light"
     },
     "output_type": "display_data"
    }
   ],
   "source": [
    "zs = np.arange(-10., 10., 0.1)\n",
    "gs = [1/(1+np.exp(-z)) for z in zs]\n",
    "plt.plot(zs, gs)\n",
    "plt.xlabel('z')\n",
    "plt.ylabel('1/(1+e^-z)')\n",
    "plt.show()"
   ]
  },
  {
   "cell_type": "markdown",
   "metadata": {},
   "source": [
    "### binary crossentropy 구현"
   ]
  },
  {
   "cell_type": "code",
   "execution_count": 6,
   "metadata": {},
   "outputs": [
    {
     "data": {
      "image/png": "[encoded data removed]",
      "text/plain": [
       "<Figure size 432x288 with 1 Axes>"
      ]
     },
     "metadata": {
      "needs_background": "light"
     },
     "output_type": "display_data"
    }
   ],
   "source": [
    "zs = np.arange(0.01, 10., 0.01)\n",
    "gs = [np.log(z) for z in zs]\n",
    "plt.plot(zs, gs)\n",
    "plt.xlim(0,1)\n",
    "plt.ylim(-5,0)\n",
    "plt.xlabel('z')\n",
    "plt.ylabel('(-np.log(z)')\n",
    "plt.grid(True)\n",
    "plt.show()"
   ]
  },
  {
   "cell_type": "code",
   "execution_count": 7,
   "metadata": {},
   "outputs": [
    {
     "data": {
      "image/png": "[encoded data removed]",
      "text/plain": [
       "<Figure size 432x288 with 1 Axes>"
      ]
     },
     "metadata": {
      "needs_background": "light"
     },
     "output_type": "display_data"
    }
   ],
   "source": [
    "zs = np.arange(0.01, 10., 0.01)\n",
    "gs = [-np.log(z) for z in zs]\n",
    "plt.plot(zs, gs)\n",
    "plt.xlim(0,1)\n",
    "plt.ylim(0,5)\n",
    "plt.xlabel('z')\n",
    "plt.ylabel('(-np.log(z)')\n",
    "plt.show()"
   ]
  },
  {
   "cell_type": "code",
   "execution_count": 8,
   "metadata": {},
   "outputs": [
    {
     "name": "stderr",
     "output_type": "stream",
     "text": [
      "<ipython-input-8-f9b7ab8d5399>:2: RuntimeWarning: divide by zero encountered in log\n",
      "  gs = [-np.log(1-z) for z in zs]\n",
      "<ipython-input-8-f9b7ab8d5399>:2: RuntimeWarning: invalid value encountered in log\n",
      "  gs = [-np.log(1-z) for z in zs]\n"
     ]
    },
    {
     "data": {
      "image/png": "[encoded data removed]",
      "text/plain": [
       "<Figure size 432x288 with 1 Axes>"
      ]
     },
     "metadata": {
      "needs_background": "light"
     },
     "output_type": "display_data"
    }
   ],
   "source": [
    "zs = np.arange(0.01, 10., 0.01)\n",
    "gs = [-np.log(1-z) for z in zs]\n",
    "plt.plot(zs, gs)\n",
    "plt.xlim(0,1)\n",
    "plt.ylim(0,5)\n",
    "plt.xlabel('z')\n",
    "plt.ylabel('-(np.log(1-z)')\n",
    "plt.show()"
   ]
  },
  {
   "cell_type": "code",
   "execution_count": null,
   "metadata": {},
   "outputs": [],
   "source": [
    "import matplotlib.pyplot as  plt\n",
    "import numpy as np\n",
    "\n",
    "class Neuron:\n",
    "    \n",
    "    def __init__(self):\n",
    "        self.w = 1.0     # 가중치를 초기화합니다\n",
    "        self.b = 1.0     # 절편을 초기화합니다\n",
    "    \n",
    "    def forpass(self, x):\n",
    "        z = x * self.w + self.b       # 직선 방정식을 계산합니다\n",
    "        return z\n",
    "    \n",
    "    def backprop(self, x, err):\n",
    "        w_grad = x * err    # 가중치에 대한 그래디언트를 계산합니다\n",
    "        b_grad = 1 * err    # 절편에 대한 그래디언트를 계산합니다\n",
    "        return w_grad, b_grad\n",
    "\n",
    "    def activation(self, z):\n",
    "#         a = z;\n",
    "        a = 1/(1+np.exp(-z))\n",
    "        return a\n",
    "    \n",
    "    def fit(self, x, y, epochs=200):\n",
    "        for i in range(epochs):           # 에포크만큼 반복합니다\n",
    "            for x_i, y_i in zip(x, y):    # 모든 샘플에 대해 반복합니다\n",
    "                z = self.forpass(x_i) # 정방향 계산\n",
    "                a = self.activation(z)\n",
    "                err = a - y_i      # 오차 계산\n",
    "                w_grad, b_grad = self.backprop(x_i, err)  # 역방향 계산\n",
    "                self.w -= 0.1*w_grad          # 가중치 업데이트\n",
    "                self.b -= 0.1*b_grad          # 절편 업데이트\n",
    "\n",
    "# x = np.array([1,2,3,4,5,6,7,8])\n",
    "# y = np.array([0,0,0,0,1,1,1,1])\n",
    "x = np.array([1,2,3,4,5,6,7,8,20])\n",
    "y = np.array([0,0,0,0,1,1,1,1,1])                \n",
    "\n",
    "neuron = Neuron()\n",
    "neuron.fit(x, y)\n",
    "\n",
    "for xi, yi in zip(x,y):\n",
    "    plt.plot(xi,yi,\"rx\")\n",
    "\n",
    "for x_i in x:\n",
    "    y_hat = neuron.forpass(x_i)\n",
    "    a = neuron.activation(y_hat)\n",
    "    if( a >= 0.5 ):\n",
    "        print(\"%d : 악성종양\"%x_i)\n",
    "    else:\n",
    "        print(\"%d : 양성종양\"%x_i)\n",
    "    y_temp.append(a)\n",
    "\n",
    "x = np.arange(0,x[-1],0.1)\n",
    "y_temp = []\n",
    "  \n",
    "for i, x_i in enumerate(x):\n",
    "    y_hat = neuron.forpass(x_i)\n",
    "    a = neuron.activation(y_hat)\n",
    "    y_temp.append(a)    \n",
    "    \n",
    "plt.plot(x,y_temp)\n",
    "plt.show()"
   ]
  },
  {
   "cell_type": "code",
   "execution_count": 9,
   "metadata": {},
   "outputs": [
    {
     "name": "stdout",
     "output_type": "stream",
     "text": [
      "(569, 30) (569,)\n"
     ]
    }
   ],
   "source": [
    "from sklearn.datasets import load_breast_cancer\n",
    "cancer = load_breast_cancer()\n",
    "print(cancer.data.shape, cancer.target.shape)"
   ]
  },
  {
   "cell_type": "code",
   "execution_count": 10,
   "metadata": {},
   "outputs": [
    {
     "data": {
      "text/plain": [
       "array([[1.799e+01, 1.038e+01, 1.228e+02, 1.001e+03, 1.184e-01, 2.776e-01,\n",
       "        3.001e-01, 1.471e-01, 2.419e-01, 7.871e-02, 1.095e+00, 9.053e-01,\n",
       "        8.589e+00, 1.534e+02, 6.399e-03, 4.904e-02, 5.373e-02, 1.587e-02,\n",
       "        3.003e-02, 6.193e-03, 2.538e+01, 1.733e+01, 1.846e+02, 2.019e+03,\n",
       "        1.622e-01, 6.656e-01, 7.119e-01, 2.654e-01, 4.601e-01, 1.189e-01],\n",
       "       [2.057e+01, 1.777e+01, 1.329e+02, 1.326e+03, 8.474e-02, 7.864e-02,\n",
       "        8.690e-02, 7.017e-02, 1.812e-01, 5.667e-02, 5.435e-01, 7.339e-01,\n",
       "        3.398e+00, 7.408e+01, 5.225e-03, 1.308e-02, 1.860e-02, 1.340e-02,\n",
       "        1.389e-02, 3.532e-03, 2.499e+01, 2.341e+01, 1.588e+02, 1.956e+03,\n",
       "        1.238e-01, 1.866e-01, 2.416e-01, 1.860e-01, 2.750e-01, 8.902e-02],\n",
       "       [1.969e+01, 2.125e+01, 1.300e+02, 1.203e+03, 1.096e-01, 1.599e-01,\n",
       "        1.974e-01, 1.279e-01, 2.069e-01, 5.999e-02, 7.456e-01, 7.869e-01,\n",
       "        4.585e+00, 9.403e+01, 6.150e-03, 4.006e-02, 3.832e-02, 2.058e-02,\n",
       "        2.250e-02, 4.571e-03, 2.357e+01, 2.553e+01, 1.525e+02, 1.709e+03,\n",
       "        1.444e-01, 4.245e-01, 4.504e-01, 2.430e-01, 3.613e-01, 8.758e-02]])"
      ]
     },
     "execution_count": 10,
     "metadata": {},
     "output_type": "execute_result"
    }
   ],
   "source": [
    "cancer.data[:3]"
   ]
  },
  {
   "cell_type": "code",
   "execution_count": 11,
   "metadata": {},
   "outputs": [
    {
     "data": {
      "image/png": "[encoded data removed]",
      "text/plain": [
       "<Figure size 432x288 with 1 Axes>"
      ]
     },
     "metadata": {
      "needs_background": "light"
     },
     "output_type": "display_data"
    }
   ],
   "source": [
    "plt.boxplot(cancer.data)\n",
    "plt.xlabel('feature')\n",
    "plt.ylabel('value')\n",
    "plt.show()"
   ]
  },
  {
   "cell_type": "code",
   "execution_count": 12,
   "metadata": {},
   "outputs": [
    {
     "data": {
      "text/plain": [
       "array(['mean radius', 'mean texture', 'mean perimeter', 'mean area',\n",
       "       'mean smoothness', 'mean compactness', 'mean concavity',\n",
       "       'mean concave points', 'mean symmetry', 'mean fractal dimension',\n",
       "       'radius error', 'texture error', 'perimeter error', 'area error',\n",
       "       'smoothness error', 'compactness error', 'concavity error',\n",
       "       'concave points error', 'symmetry error',\n",
       "       'fractal dimension error', 'worst radius', 'worst texture',\n",
       "       'worst perimeter', 'worst area', 'worst smoothness',\n",
       "       'worst compactness', 'worst concavity', 'worst concave points',\n",
       "       'worst symmetry', 'worst fractal dimension'], dtype='<U23')"
      ]
     },
     "execution_count": 12,
     "metadata": {},
     "output_type": "execute_result"
    }
   ],
   "source": [
    "cancer.feature_names"
   ]
  },
  {
   "cell_type": "code",
   "execution_count": 13,
   "metadata": {},
   "outputs": [
    {
     "data": {
      "text/plain": [
       "array(['mean area', 'worst area'], dtype='<U23')"
      ]
     },
     "execution_count": 13,
     "metadata": {},
     "output_type": "execute_result"
    }
   ],
   "source": [
    "cancer.feature_names[[3,23]]"
   ]
  },
  {
   "cell_type": "code",
   "execution_count": 14,
   "metadata": {},
   "outputs": [
    {
     "data": {
      "text/plain": [
       "array([0, 0, 0, 0, 0, 0, 0, 0, 0, 0, 0, 0, 0, 0, 0, 0, 0, 0, 0, 1, 1, 1,\n",
       "       0, 0, 0, 0, 0, 0, 0, 0, 0, 0, 0, 0, 0, 0, 0, 1, 0, 0, 0, 0, 0, 0,\n",
       "       0, 0, 1, 0, 1, 1, 1, 1, 1, 0, 0, 1, 0, 0, 1, 1, 1, 1, 0, 1, 0, 0,\n",
       "       1, 1, 1, 1, 0, 1, 0, 0, 1, 0, 1, 0, 0, 1, 1, 1, 0, 0, 1, 0, 0, 0,\n",
       "       1, 1, 1, 0, 1, 1, 0, 0, 1, 1, 1, 0, 0, 1, 1, 1, 1, 0, 1, 1, 0, 1,\n",
       "       1, 1, 1, 1, 1, 1, 1, 0, 0, 0, 1, 0, 0, 1, 1, 1, 0, 0, 1, 0, 1, 0,\n",
       "       0, 1, 0, 0, 1, 1, 0, 1, 1, 0, 1, 1, 1, 1, 0, 1, 1, 1, 1, 1, 1, 1,\n",
       "       1, 1, 0, 1, 1, 1, 1, 0, 0, 1, 0, 1, 1, 0, 0, 1, 1, 0, 0, 1, 1, 1,\n",
       "       1, 0, 1, 1, 0, 0, 0, 1, 0, 1, 0, 1, 1, 1, 0, 1, 1, 0, 0, 1, 0, 0,\n",
       "       0, 0, 1, 0, 0, 0, 1, 0, 1, 0, 1, 1, 0, 1, 0, 0, 0, 0, 1, 1, 0, 0,\n",
       "       1, 1, 1, 0, 1, 1, 1, 1, 1, 0, 0, 1, 1, 0, 1, 1, 0, 0, 1, 0, 1, 1,\n",
       "       1, 1, 0, 1, 1, 1, 1, 1, 0, 1, 0, 0, 0, 0, 0, 0, 0, 0, 0, 0, 0, 0,\n",
       "       0, 0, 1, 1, 1, 1, 1, 1, 0, 1, 0, 1, 1, 0, 1, 1, 0, 1, 0, 0, 1, 1,\n",
       "       1, 1, 1, 1, 1, 1, 1, 1, 1, 1, 1, 0, 1, 1, 0, 1, 0, 1, 1, 1, 1, 1,\n",
       "       1, 1, 1, 1, 1, 1, 1, 1, 1, 0, 1, 1, 1, 0, 1, 0, 1, 1, 1, 1, 0, 0,\n",
       "       0, 1, 1, 1, 1, 0, 1, 0, 1, 0, 1, 1, 1, 0, 1, 1, 1, 1, 1, 1, 1, 0,\n",
       "       0, 0, 1, 1, 1, 1, 1, 1, 1, 1, 1, 1, 1, 0, 0, 1, 0, 0, 0, 1, 0, 0,\n",
       "       1, 1, 1, 1, 1, 0, 1, 1, 1, 1, 1, 0, 1, 1, 1, 0, 1, 1, 0, 0, 1, 1,\n",
       "       1, 1, 1, 1, 0, 1, 1, 1, 1, 1, 1, 1, 0, 1, 1, 1, 1, 1, 0, 1, 1, 0,\n",
       "       1, 1, 1, 1, 1, 1, 1, 1, 1, 1, 1, 1, 0, 1, 0, 0, 1, 0, 1, 1, 1, 1,\n",
       "       1, 0, 1, 1, 0, 1, 0, 1, 1, 0, 1, 0, 1, 1, 1, 1, 1, 1, 1, 1, 0, 0,\n",
       "       1, 1, 1, 1, 1, 1, 0, 1, 1, 1, 1, 1, 1, 1, 1, 1, 1, 0, 1, 1, 1, 1,\n",
       "       1, 1, 1, 0, 1, 0, 1, 1, 0, 1, 1, 1, 1, 1, 0, 0, 1, 0, 1, 0, 1, 1,\n",
       "       1, 1, 1, 0, 1, 1, 0, 1, 0, 1, 0, 0, 1, 1, 1, 0, 1, 1, 1, 1, 1, 1,\n",
       "       1, 1, 1, 1, 1, 0, 1, 0, 0, 1, 1, 1, 1, 1, 1, 1, 1, 1, 1, 1, 1, 1,\n",
       "       1, 1, 1, 1, 1, 1, 1, 1, 1, 1, 1, 1, 0, 0, 0, 0, 0, 0, 1])"
      ]
     },
     "execution_count": 14,
     "metadata": {},
     "output_type": "execute_result"
    }
   ],
   "source": [
    "cancer.target"
   ]
  },
  {
   "cell_type": "code",
   "execution_count": 15,
   "metadata": {},
   "outputs": [
    {
     "data": {
      "text/plain": [
       "array([0, 1])"
      ]
     },
     "execution_count": 15,
     "metadata": {},
     "output_type": "execute_result"
    }
   ],
   "source": [
    "np.unique(cancer.target)"
   ]
  },
  {
   "cell_type": "code",
   "execution_count": 16,
   "metadata": {},
   "outputs": [
    {
     "data": {
      "text/plain": [
       "(array([0, 1]), array([212, 357], dtype=int64))"
      ]
     },
     "execution_count": 16,
     "metadata": {},
     "output_type": "execute_result"
    }
   ],
   "source": [
    "np.unique(cancer.target, return_counts=True)"
   ]
  },
  {
   "cell_type": "code",
   "execution_count": 17,
   "metadata": {},
   "outputs": [
    {
     "name": "stdout",
     "output_type": "stream",
     "text": [
      "(569, 30)\n",
      "(569,)\n",
      "[0 0 0 0 0 0 0 0 0 0 0 0 0 0 0 0 0 0 0 1 1 1 0 0 0 0 0 0 0 0 0 0 0 0 0 0 0\n",
      " 1 0 0 0 0 0 0 0 0 1 0 1 1 1 1 1 0 0 1 0 0 1 1 1 1 0 1 0 0 1 1 1 1 0 1 0 0\n",
      " 1 0 1 0 0 1 1 1 0 0 1 0 0 0 1 1 1 0 1 1 0 0 1 1 1 0 0 1 1 1 1 0 1 1 0 1 1\n",
      " 1 1 1 1 1 1 0 0 0 1 0 0 1 1 1 0 0 1 0 1 0 0 1 0 0 1 1 0 1 1 0 1 1 1 1 0 1\n",
      " 1 1 1 1 1 1 1 1 0 1 1 1 1 0 0 1 0 1 1 0 0 1 1 0 0 1 1 1 1 0 1 1 0 0 0 1 0\n",
      " 1 0 1 1 1 0 1 1 0 0 1 0 0 0 0 1 0 0 0 1 0 1 0 1 1 0 1 0 0 0 0 1 1 0 0 1 1\n",
      " 1 0 1 1 1 1 1 0 0 1 1 0 1 1 0 0 1 0 1 1 1 1 0 1 1 1 1 1 0 1 0 0 0 0 0 0 0\n",
      " 0 0 0 0 0 0 0 1 1 1 1 1 1 0 1 0 1 1 0 1 1 0 1 0 0 1 1 1 1 1 1 1 1 1 1 1 1\n",
      " 1 0 1 1 0 1 0 1 1 1 1 1 1 1 1 1 1 1 1 1 1 0 1 1 1 0 1 0 1 1 1 1 0 0 0 1 1\n",
      " 1 1 0 1 0 1 0 1 1 1 0 1 1 1 1 1 1 1 0 0 0 1 1 1 1 1 1 1 1 1 1 1 0 0 1 0 0\n",
      " 0 1 0 0 1 1 1 1 1 0 1 1 1 1 1 0 1 1 1 0 1 1 0 0 1 1 1 1 1 1 0 1 1 1 1 1 1\n",
      " 1 0 1 1 1 1 1 0 1 1 0 1 1 1 1 1 1 1 1 1 1 1 1 0 1 0 0 1 0 1 1 1 1 1 0 1 1\n",
      " 0 1 0 1 1 0 1 0 1 1 1 1 1 1 1 1 0 0 1 1 1 1 1 1 0 1 1 1 1 1 1 1 1 1 1 0 1\n",
      " 1 1 1 1 1 1 0 1 0 1 1 0 1 1 1 1 1 0 0 1 0 1 0 1 1 1 1 1 0 1 1 0 1 0 1 0 0\n",
      " 1 1 1 0 1 1 1 1 1 1 1 1 1 1 1 0 1 0 0 1 1 1 1 1 1 1 1 1 1 1 1 1 1 1 1 1 1\n",
      " 1 1 1 1 1 1 1 0 0 0 0 0 0 1]\n"
     ]
    }
   ],
   "source": [
    "x = cancer.data\n",
    "print(x.shape)\n",
    "y = cancer.target\n",
    "print(y.shape)\n",
    "print(y)"
   ]
  },
  {
   "cell_type": "code",
   "execution_count": 18,
   "metadata": {},
   "outputs": [],
   "source": [
    "from sklearn.model_selection import train_test_split"
   ]
  },
  {
   "cell_type": "code",
   "execution_count": 19,
   "metadata": {},
   "outputs": [],
   "source": [
    "x_train, x_test, y_train, y_test = train_test_split(x, y, stratify=y, \n",
    "                                                    test_size=0.2, random_state=42)"
   ]
  },
  {
   "cell_type": "code",
   "execution_count": 20,
   "metadata": {},
   "outputs": [
    {
     "name": "stdout",
     "output_type": "stream",
     "text": [
      "(455, 30) (114, 30)\n"
     ]
    }
   ],
   "source": [
    "print(x_train.shape, x_test.shape)"
   ]
  },
  {
   "cell_type": "code",
   "execution_count": 21,
   "metadata": {},
   "outputs": [
    {
     "data": {
      "text/plain": [
       "(array([0, 1]), array([170, 285], dtype=int64))"
      ]
     },
     "execution_count": 21,
     "metadata": {},
     "output_type": "execute_result"
    }
   ],
   "source": [
    "np.unique(y_train, return_counts=True)"
   ]
  },
  {
   "cell_type": "code",
   "execution_count": 28,
   "metadata": {},
   "outputs": [
    {
     "name": "stdout",
     "output_type": "stream",
     "text": [
      "(455, 30)\n",
      "30\n",
      "[1. 1. 1. 1. 1. 1. 1. 1. 1. 1. 1. 1. 1. 1. 1. 1. 1. 1. 1. 1. 1. 1. 1. 1.\n",
      " 1. 1. 1. 1. 1. 1.]\n"
     ]
    }
   ],
   "source": [
    "print(x_train.shape)\n",
    "print(x_train.shape[1])\n",
    "w=np.ones(x_train.shape[1])\n",
    "print(w)\n",
    "# temp = np.zeros((2,3))\n",
    "# print(temp)\n",
    "# temp1 = np.full((2,3),7)\n",
    "# print(temp1)"
   ]
  },
  {
   "cell_type": "code",
   "execution_count": 24,
   "metadata": {},
   "outputs": [
    {
     "name": "stdout",
     "output_type": "stream",
     "text": [
      "[4 6 8]\n",
      "[ 3  8 15]\n",
      "26\n"
     ]
    }
   ],
   "source": [
    "a = np.array([1,2,3])\n",
    "b = np.array([3,4,5])\n",
    "print(a+b) # 원소별 합\n",
    "\n",
    "print(a*b) # 원소별 곱 , 아다마르의 곱\n",
    "\n",
    "print(np.sum(a*b))"
   ]
  },
  {
   "cell_type": "code",
   "execution_count": null,
   "metadata": {},
   "outputs": [],
   "source": [
    "a = np.array([1,2,3])\n",
    "print(a*3)"
   ]
  },
  {
   "cell_type": "code",
   "execution_count": 29,
   "metadata": {},
   "outputs": [],
   "source": [
    "\n",
    "class LogisticNeuron:\n",
    "    \n",
    "    def __init__(self):\n",
    "        self.w = None\n",
    "        self.b = None\n",
    "\n",
    "    def forpass(self, x):\n",
    "#         print(x)\n",
    "#         print(self.w)\n",
    "        z = np.sum(x * self.w) + self.b  # 직선 방정식을 계산합니다\n",
    "#         print(z)\n",
    "        return z\n",
    "\n",
    "    def backprop(self, x, err):\n",
    "        w_grad = x * err    # 가중치에 대한 그래디언트를 계산합니다\n",
    "        b_grad = 1 * err    # 절편에 대한 그래디언트를 계산합니다\n",
    "        return w_grad, b_grad\n",
    "\n",
    "    def activation(self, z):\n",
    "        z = np.clip(z, -100, None) # 안전한 np.exp() 계산을 위해\n",
    "        a = 1 / (1 + np.exp(-z))  # 시그모이드 계산\n",
    "        return a\n",
    "        \n",
    "    def fit(self, x, y, epochs=100, rate = 0.01):   \n",
    "#         print(\"x.shape=\", x.shape)   # (455,30)\n",
    "        self.w = np.ones(x.shape[1])      # 가중치를 초기화합니다.\n",
    "#         print(self.w.shape)          # (30,)\n",
    "        self.b = 0                        # 절편을 초기화합니다.\n",
    "#         print(x.shape[1])\n",
    "        for i in range(epochs):           # epochs만큼 반복합니다\n",
    "            for x_i, y_i in zip(x, y):    # 모든 샘플에 대해 반복합니다\n",
    "#                 print(\"x_i.shape=\", x_i.shape)  # x.shape=(455,30)  x[0].shape=(30,)\n",
    "#                 print(\"y_i.shape=\", y_i.shape)  # y.shape=(455,)    y[0].shape=()\n",
    "                z = self.forpass(x_i)     # 정방향 계산\n",
    "                a = self.activation(z)    # 활성화 함수 적용\n",
    "#                 print(\"a=\", a)\n",
    "#                 print(\"y_i=\", y_i)\n",
    "                err = (a-y_i)          # 오차 계산\n",
    "#                 print(\"err=\", err)\n",
    "                w_grad, b_grad = self.backprop(x_i, err) # 역방향 계산\n",
    "                self.w -= rate*w_grad          # 가중치 업데이트\n",
    "                self.b -= rate*b_grad          # 절편 업데이트\n",
    "                \n",
    "    \n",
    "    def predict(self, x):\n",
    "        z = [self.forpass(x_i) for x_i in x]    # 정방향 계산\n",
    "        a = self.activation(np.array(z))        # 활성화 함수 적용\n",
    "        return a >= 0.5"
   ]
  },
  {
   "cell_type": "code",
   "execution_count": 30,
   "metadata": {},
   "outputs": [
    {
     "name": "stdout",
     "output_type": "stream",
     "text": [
      "(455, 30)\n"
     ]
    }
   ],
   "source": [
    "print(x_train.shape)"
   ]
  },
  {
   "cell_type": "code",
   "execution_count": 31,
   "metadata": {},
   "outputs": [],
   "source": [
    "neuron = LogisticNeuron()\n",
    "neuron.fit(x_train, y_train, 1000)"
   ]
  },
  {
   "cell_type": "code",
   "execution_count": 33,
   "metadata": {},
   "outputs": [
    {
     "name": "stdout",
     "output_type": "stream",
     "text": [
      "[False  True False False False False  True False False False  True False\n",
      "  True False False False False  True  True  True False False  True  True\n",
      " False False False  True  True False  True  True  True  True False  True\n",
      "  True  True False False  True  True  True False False False  True  True\n",
      "  True False  True False  True False  True  True  True False False  True\n",
      "  True  True  True False False False False  True False  True  True  True\n",
      "  True False False False  True  True  True  True False  True False  True\n",
      " False  True  True  True False False  True  True False False False  True\n",
      " False  True False False False False  True  True False False  True False\n",
      "  True False  True False False  True]\n",
      "[ True  True  True False  True False  True  True  True  True  True  True\n",
      "  True  True  True False False  True  True  True  True  True  True  True\n",
      " False False  True  True  True False  True  True  True  True  True False\n",
      "  True  True False  True  True  True  True  True  True False  True  True\n",
      "  True  True  True False  True  True  True  True  True  True  True  True\n",
      "  True  True  True False  True  True False  True False  True  True  True\n",
      "  True  True  True  True False  True  True  True False  True  True  True\n",
      "  True  True  True  True False False  True  True  True  True  True  True\n",
      "  True  True  True False  True  True False  True  True  True  True  True\n",
      "  True  True  True  True False  True]\n"
     ]
    }
   ],
   "source": [
    "print(neuron.predict(x_test))\n",
    "print(neuron.predict(x_test)== y_test)"
   ]
  },
  {
   "cell_type": "code",
   "execution_count": 34,
   "metadata": {},
   "outputs": [
    {
     "data": {
      "text/plain": [
       "0.8157894736842105"
      ]
     },
     "execution_count": 34,
     "metadata": {},
     "output_type": "execute_result"
    }
   ],
   "source": [
    "np.mean(neuron.predict(x_test) == y_test)"
   ]
  },
  {
   "cell_type": "code",
   "execution_count": null,
   "metadata": {},
   "outputs": [],
   "source": []
  }
 ],
 "metadata": {
  "kernelspec": {
   "display_name": "Python 3",
   "language": "python",
   "name": "python3"
  },
  "language_info": {
   "codemirror_mode": {
    "name": "ipython",
    "version": 3
   },
   "file_extension": ".py",
   "mimetype": "text/x-python",
   "name": "python",
   "nbconvert_exporter": "python",
   "pygments_lexer": "ipython3",
   "version": "3.9.7"
  }
 },
 "nbformat": 4,
 "nbformat_minor": 4
}
