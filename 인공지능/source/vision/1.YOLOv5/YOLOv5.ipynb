{
  "cells": [
    {
      "cell_type": "code",
      "execution_count": null,
      "metadata": {
        "id": "83Uii_zpIfM0"
      },
      "outputs": [],
      "source": [
        "!git clone https://github.com/ultralytics/yolov5  # YOLOv5 레퍼지토리 clone"
      ]
    },
    {
      "cell_type": "code",
      "execution_count": null,
      "metadata": {
        "id": "A3Ih3qDUrjqz"
      },
      "outputs": [],
      "source": [
        "# 필요한 패키지 다운로드 및 임포트\n",
        "%cd yolov5\n",
        "%pip install -qr requirements.txt # install dependencies\n",
        "\n",
        "import torch\n",
        "import yaml\n",
        "from IPython.display import Image, clear_output  # to display images\n",
        "\n",
        "print(f\"Setup complete. Using torch {torch.__version__} ({torch.cuda.get_device_properties(0).name if torch.cuda.is_available() else 'CPU'})\")"
      ]
    },
    {
      "cell_type": "markdown",
      "metadata": {
        "id": "g1x3ET3hMu4E"
      },
      "source": [
        "## 데이터셋 다운로드, yaml 파일 수정 - 각자 진행\n",
        "- 사용하고자 하는 커스텀 데이터셋을 구글 드라이브에 'dataset'이라는 폴더에 업로드\n",
        "- 'dataset' 폴더 안에는 학습/평가 데이터와 어노테이션(라벨) 그리고 데이터셋에 대한 설명이 담긴 yaml파일 필요\n",
        "\n",
        "- Roboflow의 퍼블릭 데이터셋 사용\n",
        "  - [roboflow 퍼블릭 데이터셋](https://public.roboflow.com/object-detection)에서 사용하고 싶은 데이터셋 다운로드해서 해당 폴더에 업로드\n",
        "  - 여러 포맷으로 다운로드할 수 있는데 그 중에서 TXT - YOLOv5 PyTorch 로 다운로드\n",
        "\n",
        "- 그 외 커스텀 데이터셋 사용\n",
        "  - 다른 데이터셋이나 본인이 만든 데이터셋을 사용하고 싶다면 데이터, 라벨, yaml 파일을 모두 퍼블릭 데이터셋의 규격에 맞게 통일해줘야됨 (물론 코드 수정이 가능하다면 데이터셋 로딩하는 코드를 수정해도 됨)\n",
        "\n",
        "- yaml 파일 수정\n",
        "  - train, val(또는 test) 데이터가 있는 경로 수정 필요\n",
        "\n",
        "\n"
      ]
    },
    {
      "cell_type": "code",
      "execution_count": null,
      "metadata": {
        "id": "8wFHfgUfjbX5"
      },
      "outputs": [],
      "source": [
        "!mkdir dataset\n",
        "%cd dataset"
      ]
    },
    {
      "cell_type": "code",
      "execution_count": null,
      "metadata": {
        "id": "_aTo6khijHDx"
      },
      "outputs": [],
      "source": [
        "!curl -L \"https://public.roboflow.com/ds/ep0rIrKoRl?key=nCPKMJzrhV\" > roboflow.zip"
      ]
    },
    {
      "cell_type": "code",
      "execution_count": null,
      "metadata": {
        "id": "726MZUmnjVuC"
      },
      "outputs": [],
      "source": [
        "!unzip roboflow.zip -d dronedata"
      ]
    },
    {
      "cell_type": "code",
      "execution_count": null,
      "metadata": {
        "id": "NIOuR_4pj_8k"
      },
      "outputs": [],
      "source": [
        "!ls dronedata"
      ]
    },
    {
      "cell_type": "code",
      "source": [
        "%pwd"
      ],
      "metadata": {
        "id": "B3y_YU1TzT7n"
      },
      "execution_count": null,
      "outputs": []
    },
    {
      "cell_type": "code",
      "execution_count": null,
      "metadata": {
        "id": "OqAHuO5LLcbg"
      },
      "outputs": [],
      "source": [
        "# 사용할 데이터셋 경로 및 데이터셋의 yaml 파일 경로 지정\n",
        "data_dir = 'dronedata'\n",
        "data_yaml = 'dataset/dronedata/data.yaml'"
      ]
    },
    {
      "cell_type": "code",
      "execution_count": null,
      "metadata": {
        "id": "CGKnqP5zfIja"
      },
      "outputs": [],
      "source": [
        "# 데이터셋 yaml 파일 확인\n",
        "with open(data_yaml) as f:\n",
        "    film = yaml.load(f, Loader=yaml.FullLoader)\n",
        "    display(film)"
      ]
    },
    {
      "cell_type": "code",
      "execution_count": null,
      "metadata": {
        "id": "bWWLCozsgNuv"
      },
      "outputs": [],
      "source": [
        "# yaml 파일의 train, val 데이터가 있는 경로 수정 (기존 경로 -> 구글 드라이브에 저장된 경로로)\n",
        "film['train'] = 'dataset/dronedata/train/images'\n",
        "film['val'] = 'dataset/dronedata/valid/images'\n",
        "film['test'] = 'dataset/dronedata/test/images'\n",
        "\n",
        "with open(data_yaml, 'w') as f:\n",
        "    yaml.dump(film, f)\n",
        "\n",
        "print('변경된 yaml 파일 :')\n",
        "with open(data_yaml) as f:\n",
        "    film = yaml.load(f, Loader=yaml.FullLoader)\n",
        "    display(film)"
      ]
    },
    {
      "cell_type": "markdown",
      "metadata": {
        "id": "nrANyxJXRhH2"
      },
      "source": [
        "# 4. YOLOv5 모델 학습\n",
        "- 배치사이즈, 학습 에폭, 모델 사이즈 등을 선택하여 학습시킬 수 있음\n",
        "- 학습 결과 중 베스트 모델이 저장됨 -> 모델 저장된 경로 확인 필수!\n",
        "  - img: 입력 이미지 크기\n",
        "  - batch: 배치 사이즈\n",
        "  - epochs: 총 학습 에폭\n",
        "  - data: 데이터셋 yaml 파일 경로\n",
        "  - weights: 모델 웨이트 경로(pre-train된 모델로 학습시키기 때문에)\n",
        "  - cache: 캐시 이미지"
      ]
    },
    {
      "cell_type": "code",
      "execution_count": null,
      "metadata": {
        "id": "wjg5tyaLlDTM"
      },
      "outputs": [],
      "source": [
        "%cd .."
      ]
    },
    {
      "cell_type": "code",
      "execution_count": null,
      "metadata": {
        "id": "p69MjETVIosl"
      },
      "outputs": [],
      "source": [
        "!python train.py --img 416 --batch 16 --epochs 150 --data {data_yaml} --weights yolov5s.pt --cache"
      ]
    },
    {
      "cell_type": "markdown",
      "metadata": {
        "id": "8-HOkSPSRf6x"
      },
      "source": [
        "# 학습한 모델 테스트"
      ]
    },
    {
      "cell_type": "code",
      "execution_count": null,
      "metadata": {
        "id": "F74pJC73VTPw"
      },
      "outputs": [],
      "source": [
        "# 테스트 이미지 경로\n",
        "test_data_dir = film['val']\n",
        "\n",
        "# 실험 번호 지정 - 진행한 실험이 저장된 경로 확인해서 기입! - runs/train/exp1 인지 exp2, exp3 인지 확인 후 아래 번호 지정\n",
        "train_exp_num = 2"
      ]
    },
    {
      "cell_type": "code",
      "execution_count": null,
      "metadata": {
        "id": "ttCVP0FTIowP"
      },
      "outputs": [],
      "source": [
        "!python detect.py --weights runs/train/exp{train_exp_num}/weights/best.pt --img 416 --conf 0.1 --source {test_data_dir}\n",
        "# !python detect.py --weights runs/train/exp/weights/best.pt --img 416 --conf 0.1 --source {test_data_dir}"
      ]
    },
    {
      "cell_type": "code",
      "execution_count": null,
      "metadata": {
        "id": "76PYHTpVIoyH"
      },
      "outputs": [],
      "source": [
        "# 테스트 결과 확인해보기\n",
        "\n",
        "import glob\n",
        "import os\n",
        "from IPython.display import Image, display\n",
        "\n",
        "test_exp_num = 2\n",
        "\n",
        "if not os.path.exists('runs/detect/exp' + str(test_exp_num) + '/') :\n",
        "  raise Exception('test_exp_num 을 다시 확인하세요.')\n",
        "\n",
        "for imageName in glob.glob('runs/detect/exp' + str(test_exp_num) + '/*.jpg'): #assuming JPG\n",
        "    display(Image(filename=imageName))\n",
        "    print(\"\\n\")"
      ]
    }
  ],
  "metadata": {
    "accelerator": "GPU",
    "colab": {
      "provenance": [],
      "gpuType": "T4"
    },
    "kernelspec": {
      "display_name": "Python 3",
      "name": "python3"
    },
    "language_info": {
      "name": "python",
      "version": "3.8.9 (default, Apr 13 2022, 08:48:06) \n[Clang 13.1.6 (clang-1316.0.21.2.5)]"
    },
    "vscode": {
      "interpreter": {
        "hash": "31f2aee4e71d21fbe5cf8b01ff0e069b9275f58929596ceb00d14d90e3e16cd6"
      }
    }
  },
  "nbformat": 4,
  "nbformat_minor": 0
}